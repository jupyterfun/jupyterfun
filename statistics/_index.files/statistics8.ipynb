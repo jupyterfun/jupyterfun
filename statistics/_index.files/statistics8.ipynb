{
 "cells": [
  {
   "cell_type": "markdown",
   "metadata": {},
   "source": [
    "#  决策树\n",
    "\n",
    "## 九, 决策树\n",
    "\n",
    "### 1, 概念理解\n",
    "\n",
    "决策树: 通过数据特征的差别, 用已知数据训练将不同数据划分到不同分支(子树)中, 层层划分, 最终得到一个树型结构, 用来对未知数据进行预测,\n",
    "实现分类或回归\n",
    "\n",
    "例如, 有如下数据集, 预测第 11 条数据能否偿还债务:\n",
    "\n",
    "序号 | 有无房产 | 婚姻状况 | 年收入 | 能否偿还债务  \n",
    "---|---|---|---|---  \n",
    "1 | 是 | 单身 | 125 | 能  \n",
    "2 | 否 | 已婚 | 100 | 能  \n",
    "3 | 否 | 单身 | 100 | 能  \n",
    "4 | 是 | 已婚 | 110 | 能  \n",
    "5 | 是 | 离婚 | 60 | 能  \n",
    "6 | 否 | 离婚 | 95 | 不能  \n",
    "7 | 否 | 单身 | 85 | 不能  \n",
    "8 | 否 | 已婚 | 75 | 能  \n",
    "9 | 否 | 单身 | 90 | 不能  \n",
    "10 | 是 | 离婚 | 220 | 能  \n",
    "11 | 否 | 已婚 | 94 | ?  \n",
    "\n",
    "我们可以将已知样本作如下划分(训练), 构建一颗决策树, 然后将第 11 条数据代入(测试), 落在哪一个叶子中, 它就是对应叶子的类别: 预测结果是\n",
    "**能**\n",
    "\n",
    "![]()\n",
    "\n",
    "上例中, 层级已经不可再分, 但如果只划分到婚姻状况就不再划分如何实现预测?\n",
    "\n",
    "决策树实现预测:  \n",
    "对于分类树, 叶子节点中, 哪个类别样本数量最多, 就将其作为未知样本的类别  \n",
    "对于回归树, 使用叶子节点中, 所有样本的均值, 作为未知样本的结果\n",
    "\n",
    "对于上例, 如果只划分到婚姻状况, 那对于婚姻状况这个叶子中, 不能偿还的最多, 预测结果就是 **不能**\n",
    "\n",
    "### 2, 分类决策树\n",
    "\n",
    "对上例出现的情况, 我们会有如下问题:  \n",
    "我们为什么以年收入开始划分, 依据是什么? 划分顺序怎么定?  \n",
    "年收入为什么选 97.5 为划分阈值?  \n",
    "要划分多少层才好, 是否越多越好?  \n",
    "等等…\n",
    "\n",
    "下面一步步来作讨论:\n",
    "\n",
    "#### 2.01, 信息熵\n",
    "\n",
    "**信息熵** : 用来描述信源的不确定度, 不确定性越大, 信息熵越大. 例如, 明天海南要下雪, 不确定性非常小, 信息熵很小, 明天海南要下雨,\n",
    "不确定性大, 信息熵就大\n",
    "\n",
    "设随机变量 X 具有 m 个特征值, 各个值出现的概率为 $p_{1}$, …, $p_{m}$, 且\n",
    "\n",
    "$$p_{1}+p_{2}+\\cdots+p_{m} = 1$$\n",
    "\n",
    "则变量 X 的信息熵(信息期望值)为:\n",
    "\n",
    "$$H(X)=-p_{1} \\log_{2} p_{1} -p_{2} \\log_{2} p_{2}-\\cdots -p_{m} \\log_{2}\n",
    "p_{m}$$\n",
    "\n",
    "$$ =-\\sum_{i=1}^{m}p_{i}\\log_{2}p_{i}$$\n",
    "\n",
    "#### 2.02, 概率分布与信息商的关系\n",
    "\n",
    "假设明天下雨的概率从 0.01 ~ 0.99 递增, 那么不下雨的概率就从 0.99 ~ 0.01 递减, 看看概率分布和信息熵的关系:"
   ]
  },
  {
   "cell_type": "code",
   "execution_count": 1,
   "metadata": {},
   "outputs": [
    {
     "data": {
      "image/png": "[encoded data removed]",
      "text/plain": [
       "<Figure size 432x288 with 1 Axes>"
      ]
     },
     "metadata": {
      "needs_background": "light"
     },
     "output_type": "display_data"
    }
   ],
   "source": [
    "import numpy as np  \n",
    "import matplotlib.pyplot as plt  \n",
    "\n",
    "plt.rcParams['font.family'] = 'SimHei'  \n",
    "plt.rcParams['font.size'] = 14  \n",
    "\n",
    "# 下雨的概率  \n",
    "p = np.linspace(0.01, 0.99, 100)  \n",
    "\n",
    "# 信息熵  \n",
    "h = -p * np.log2(p) - (1-p) * np.log2(1-p)  \n",
    "\n",
    "# 绘制关系图  \n",
    "plt.plot(p, h)  \n",
    "plt.xlabel('概率分布')  \n",
    "plt.ylabel('信息熵')  \n",
    "plt.title('概率分布和信息熵关系图')  \n",
    "plt.show()  "
   ]
  },
  {
   "cell_type": "markdown",
   "metadata": {},
   "source": [
    "可见, 概率分布越均衡, 不确定性越大, 信息熵越大, 在所有概率都相等(p下雨=p不下雨)时, 信息熵最大\n",
    "\n",
    "如果把概率分布转换到决策树的数据集上, 信息熵体现的就是数据的 **不纯度** , 即样本类别的均衡程度. 因为数据集是未分类的, 要把它分类,\n",
    "样本类别越均衡, 各个类别的占比(概率)分布越均衡, 不纯度越高, 信息熵越大"
   ]
  },
  {
   "cell_type": "markdown",
   "metadata": {
    "tags": []
   },
   "source": [
    "#### 2.03, 信息增益\n",
    "\n",
    "信息增益的定义如下:\n",
    "\n",
    "$$I G\\left(D_{p}, f\\right)=I\\left(D_{p}\\right)-\\sum_{j=1}^{n}\n",
    "\\frac{N_{j}}{N_{p}} I\\left(D_{j}\\right) $$\n",
    "\n",
    "$f$: 划分的特征  \n",
    "$D_{p}$: 父节点, 即使用特征 f 分割之前的节点  \n",
    "$I G\\left(D_{p}, f\\right)$: 父节点 $D_{p}$ 使用特征 f 划分下, 获得的信息增益  \n",
    "$I\\left(D_{p}\\right)$：父节点不纯度, 信息熵是度量标准之一  \n",
    "$D_{j}$: 父节点 $D_{p}$ 经过分割之后, 会产生 n 个子节点, $D_{j}$ 为第 j 个子节点  \n",
    "$I\\left(D_{j}\\right)$：子节点不纯度  \n",
    "$N_{p}$: 父节点 $D_{p}$ 包含样本的数量  \n",
    "$N_{j}$: 第 j 个子节点 $D_{j}$ 包含样本的数量\n",
    "\n",
    "如果是二叉树, 即父节点最多分为左右两个子节点, 此时, 信息增益为:\n",
    "\n",
    "$$I G\\left(D_{p}, f\\right)=I\\left(D_{p}\\right)-\\frac{N_{l e f t}}{N_{p}}\n",
    "I\\left(D_{l e f t}\\right)-\\frac{N_{r i g h t}}{N_{p}} I\\left(D_{r i g h\n",
    "t}\\right)$$\n",
    "\n",
    "可见, 信息增益就是父节点的不纯度减去所有子节点的(加权)不纯度"
   ]
  },
  {
   "cell_type": "markdown",
   "metadata": {},
   "source": [
    "父节点的不纯度是不变的, 在选择特征进行类别划分时, 应该让子节点的不纯度尽可能低, 这样训练可以更快完成, 信息增益也最大. 这正是训练决策树时,\n",
    "选择特征顺序的依据\n",
    "\n",
    "以开头的例子为例, 不纯度使用信息熵度量, 则根节点的信息熵为:\n",
    "\n",
    "$$I\\left(D_{p}\\right)=-0.7 * \\log _{2} 0.7-0.3 * \\log _{2} 0.3=0.88$$\n",
    "\n",
    "如果以”有无房产”划分, 则可计算得子节点信息熵:\n",
    "\n",
    "$$\\begin{array}{l}  \n",
    "I\\left(D_{\\text {有房产 }}\\right)=0 \\  \n",
    "I\\left(D_{\\text {无房产 }}\\right)=1  \n",
    "\\end{array}$$\n",
    "\n",
    "从而可得根节点信息增益为:\n",
    "\n",
    "$$I G(\\text { 有无房产 })=0.88-0.4 * 0-0.6 * 1=0.28 $$\n",
    "\n",
    "同理,\n",
    "\n",
    "$$I G(\\text { 婚姻状况 })=0.205 $$\n",
    "\n",
    "而对于年收入, 将年收入排序后, 取不同类别的分界点年收入(75 与 85, 95 与 100)的均值进行划分, 比较哪一个信息增益大:\n",
    "\n",
    "$$\\begin{array}{l}  \n",
    "I\\left(D_{\\text {年收入 }< 80}\\right)=0 \\  \n",
    "I\\left(D_{\\text { 年收入 } >=80}\\right)=0.954 \\  \n",
    "I G(\\text { 年收入 }=80)=0.88-0.2 * 0-0.8 * 0.954=0.117  \n",
    "\\end{array}$$\n",
    "\n",
    "同理,\n",
    "\n",
    "$$I G(\\text { 年收入 }=97.5)=0.395$$\n",
    "\n",
    "可见, 以 年收入=97.5 划分时, 信息增益最大, 故首先选它进行划分"
   ]
  },
  {
   "cell_type": "markdown",
   "metadata": {},
   "source": [
    "根节点划分结束, 第二层的父节点以同样的方式计算之后再次划分, 一直到划分停止\n",
    "\n",
    "#### 2.04, 过拟合与欠拟合\n",
    "\n",
    "如果不设置条件, 是不是划分深度越大越好呢?\n",
    "\n",
    "下面以鸢尾花数据集为例, 看看划分深度对模型效果的影响:"
   ]
  },
  {
   "cell_type": "code",
   "execution_count": 2,
   "metadata": {},
   "outputs": [
    {
     "data": {
      "image/png": "[encoded data removed]",
      "text/plain": [
       "<Figure size 432x288 with 1 Axes>"
      ]
     },
     "metadata": {
      "needs_background": "light"
     },
     "output_type": "display_data"
    }
   ],
   "source": [
    "from sklearn.datasets import load_iris  \n",
    "from sklearn.model_selection import train_test_split  \n",
    "from sklearn.tree import DecisionTreeClassifier  \n",
    "\n",
    "x, y = load_iris(return_X_y=True)  \n",
    "x = x[:, :2]  \n",
    "x_train, x_test, y_train, y_test = train_test_split(  \n",
    "    x, y, test_size=0.25, random_state=0)  \n",
    "'''  \n",
    "参数介绍:  \n",
    "criterion: 不纯度度量标准, 默认基尼系数 gini, 信息熵为 entropy  \n",
    "splitter: 选择划分节点的方式, 默认最好 best, 随机 random  \n",
    "max_depth: 划分深度, 默认 None 不设限  \n",
    "min_samples_split: 划分节点的最小样本数, 默认 2  \n",
    "min_samples_leaf: 划分节点后, 叶子节点的最少样本数, 默认 1  \n",
    "max_features: 划分节点时, 考虑的最大特征数, 默认 None 考虑所有, 设置数量后会随机选择  \n",
    "random_state: 随机种子, 控制模型的随机行为  \n",
    "'''  \n",
    "tree = DecisionTreeClassifier()  \n",
    "\n",
    "# 定义列表, 用来储存不同深度下, 模型的分值  \n",
    "train_score = []  \n",
    "test_score = []  \n",
    "\n",
    "# 设置深度 1~12 开始训练  \n",
    "for depth in range(1, 13):  \n",
    "    tree = DecisionTreeClassifier(criterion='entropy',  \n",
    "                    max_depth=depth, random_state=0)  \n",
    "    tree.fit(x_train, y_train) \n",
    "\n",
    " \n",
    "\n",
    "    train_score.append(tree.score(x_train, y_train))  \n",
    "    test_score.append(tree.score(x_test, y_test))  \n",
    "\n",
    "plt.plot(train_score, label='训练集分值')  \n",
    "plt.plot(test_score, label='测试集分值')  \n",
    "plt.xlabel('划分深度')  \n",
    "plt.ylabel('分值')  \n",
    "plt.legend()  \n",
    "plt.show() "
   ]
  },
  {
   "cell_type": "markdown",
   "metadata": {},
   "source": [
    "可见, 划分深度小, 训练集和测试集的分值都小, 容易欠拟合  \n",
    "随着划分深度的增加, 分值都在增加, 模型预测效果也在变好  \n",
    "当深度增加到一定程度, 深度再增加, 训练集分值随着增加, 但造成了模型过分依赖训练集数据特征, 从而测试集分值减小, 容易过拟合"
   ]
  },
  {
   "cell_type": "markdown",
   "metadata": {},
   "source": [
    "### 3, 不纯度度量标准\n",
    "\n",
    "不纯度度量标准有:\n",
    "\n",
    "**信息熵**\n",
    "\n",
    "$$I_{H}(D)=-\\sum_{i=1}^{m} p(i \\mid D) \\log _{2} p(i \\mid D) $$\n",
    "\n",
    "m: 节点 D 中含有样本的类别数量  \n",
    "$p(i \\mid D)$: 节点 D 中, 属于类别 i 的样本占节点 D 中样本总数的比例(概率)\n",
    "\n",
    "**基尼系数**\n",
    "\n",
    "$$I_{G}(D)=1-\\sum_{i=1}^{m} p(i \\mid D)^{2}$$\n",
    "\n",
    "**错误率**\n",
    "\n",
    "$$I_{E}(D)=1-\\max {p(i \\mid D)}$$\n",
    "\n",
    "看看各个度量标准与概率分布的关系:"
   ]
  },
  {
   "cell_type": "code",
   "execution_count": 3,
   "metadata": {},
   "outputs": [
    {
     "data": {
      "image/png": "[encoded data removed]",
      "text/plain": [
       "<Figure size 432x288 with 1 Axes>"
      ]
     },
     "metadata": {
      "needs_background": "light"
     },
     "output_type": "display_data"
    }
   ],
   "source": [
    "def entropy(p):  \n",
    "    return -p * np.log2(p) - (1-p) * np.log2(1-p)  \n",
    "\n",
    "def gini(p):  \n",
    "    return 1 - p**2 - (1-p)**2  \n",
    "\n",
    "def error(p):  \n",
    "    return 1 - np.max([p, 1-p], axis=0)  \n",
    "\n",
    "p = np.linspace(0.0001, 0.9999, 200)  \n",
    "\n",
    "en = entropy(p)  \n",
    "er = error(p)  \n",
    "g = gini(p)  \n",
    "\n",
    "for i, lab, ls in zip([en, g, er],  \n",
    "                      ['信息熵', '基尼系数', '错误率'],  \n",
    "                      ['-', ':', '--']):  \n",
    "    plt.plot(p, i, label=lab, linestyle=ls, lw=2)  \n",
    "\n",
    "plt.legend()  \n",
    "plt.xlabel('概率分布')  \n",
    "plt.ylabel('不纯度')  \n",
    "plt.show()  "
   ]
  },
  {
   "cell_type": "markdown",
   "metadata": {},
   "source": [
    "可见, 无论选哪一种度量标准, 样本属于同一类, 不纯度都是 0; 样本中不同类别占比相同时, 不纯度最大\n",
    "\n",
    "### 4, 决策树常用算法介绍\n",
    "\n",
    "**ID3**\n",
    "\n",
    "ID3 (Iterative Dichotomiser3), 迭代二分法特点:  \n",
    "-使用多叉树结构  \n",
    "-使用信息熵作为不纯度度量, 选择信息增益最大的特征划分  \n",
    "-经典算法, 简单, 训练快  \n",
    "局限:  \n",
    "-不支持连续特征  \n",
    "-不支持缺失值处理  \n",
    "-不支持回归  \n",
    "-倾向选择特征取值多的特征来划分, 例如按身份证号划分, 一个号码就是一个特征\n",
    "\n",
    "**C4.5**\n",
    "\n",
    "ID3算法改进而来, 特点:  \n",
    "-使用多叉树结构  \n",
    "-不支持回归  \n",
    "优化:  \n",
    "-支持缺失值处理  \n",
    "-连续值进行离散化处理  \n",
    "-信息熵作为不纯度度量, 但选择 **信息增益率** 最大的特征划分 "
   ]
  },
  {
   "cell_type": "markdown",
   "metadata": {},
   "source": [
    "信息增益率:\n",
    "\n",
    "$$I G_{\\text {Ratio}}\\left(D_{p}, f\\right)=\\frac{I G_{H}\\left(D_{p},\n",
    "f\\right)}{I_{H}(f)} $$\n",
    "\n",
    "$I_{H}(f)$: 在特征 $f$ 下, 取各个特征值计算得到的信息熵之和, 其实就是特征 $f$ 的不纯度, 特征值越多, 特征不纯度越大\n",
    "\n",
    "选择信息增益最大的特征来划分, 父节点的信息熵不变, 就要求信息增益的第二项 $\\sum_{j=1}^{n} \\frac{N_{j}}{N_{p}}\n",
    "I\\left(D_{j}\\right)$ 最小, 从而会倾向选择特征取值多的特征\n",
    "\n",
    "因为, 特征取值多, 通常划分之后子节点的不纯度(信息熵)就更低, 例如极端情况, 选身份证划分, 划分之后不管什么类别, 子节点都只有一种类别,\n",
    "不纯度都是 0, 第二项就是 0, 信息增益就最大\n",
    "\n",
    "因此, 采用信息增益率, 将 信息增益/特征不纯度, 就避免了 特征不纯度大 造成 信息增益大 而选择类别多的特征来划分的情况\n",
    "\n",
    "看看类别数量与信息熵的关系:"
   ]
  },
  {
   "cell_type": "code",
   "execution_count": 4,
   "metadata": {},
   "outputs": [
    {
     "name": "stdout",
     "output_type": "stream",
     "text": [
      "0.8812908992306927\n",
      "1.5709505944546684\n",
      "2.0\n",
      "3.321928094887362\n"
     ]
    }
   ],
   "source": [
    "en = lambda p: np.sum(-p * np.log2(p))  \n",
    "\n",
    "a1 = np.array([0.3, 0.7])  \n",
    "a2 = np.array([0.3, 0.3, 0.4])  \n",
    "a3 = np.array([0.25] * 4)  \n",
    "a4 = np.array([0.1] * 10)  \n",
    "\n",
    "print(en(a1), en(a2), en(a3), en(a4), sep='\\n')  "
   ]
  },
  {
   "cell_type": "markdown",
   "metadata": {},
   "source": [
    "---|---  \n",
    "\n",
    "\n",
    "0.8812908992306927\n",
    "1.5709505944546684\n",
    "2.0\n",
    "3.321928094887362"
   ]
  },
  {
   "cell_type": "markdown",
   "metadata": {
    "tags": []
   },
   "source": [
    "**CART**\n",
    "\n",
    "CART (Classification And Regression Tree), 分类回归树, 特点如下:  \n",
    "-使用二叉树结构  \n",
    "-支持连续值与缺失值处理  \n",
    "-分类时, 使用基尼系数作为不纯度度量, 选择基尼增益最大的特征划分  \n",
    "-回归时, 使用 MSE 或 MAE 最小的特征划分\n",
    "\n",
    "### 5, 回归决策树\n",
    "\n",
    "回归决策树因变量 y 是连续的, 使用叶子节点的均值来预测未知样本, 使用 MSE 或 MAE 作为特征划分的评估指标\n",
    "\n",
    "在 scikit-learn 中, 使用的是优化的 CART 算法来实现决策树\n",
    "\n",
    "以波士顿房价为例来实现(参数参考分类决策树):"
   ]
  },
  {
   "cell_type": "code",
   "execution_count": 5,
   "metadata": {},
   "outputs": [
    {
     "name": "stdout",
     "output_type": "stream",
     "text": [
      "0.9204825770764915\n",
      "0.8763987309111113\n"
     ]
    }
   ],
   "source": [
    "from sklearn.datasets import load_boston  \n",
    "from sklearn.tree import DecisionTreeRegressor  \n",
    "from sklearn.model_selection import train_test_split  \n",
    "\n",
    "x, y = load_boston(return_X_y=True)  \n",
    "x_train, x_test, y_train, y_test = train_test_split(  \n",
    "            x, y, test_size=0.25, random_state=1)  \n",
    "\n",
    "tree = DecisionTreeRegressor(max_depth=5, random_state=0)  \n",
    "tree.fit(x_train, y_train)  \n",
    "print(tree.score(x_train, y_train))  \n",
    "print(tree.score(x_test, y_test))  "
   ]
  }
 ],
 "metadata": {
  "kernelspec": {
   "display_name": "Python 3 (ipykernel)",
   "language": "python",
   "name": "python3"
  },
  "language_info": {
   "codemirror_mode": {
    "name": "ipython",
    "version": 3
   },
   "file_extension": ".py",
   "mimetype": "text/x-python",
   "name": "python",
   "nbconvert_exporter": "python",
   "pygments_lexer": "ipython3",
   "version": "3.9.7"
  }
 },
 "nbformat": 4,
 "nbformat_minor": 4
}
