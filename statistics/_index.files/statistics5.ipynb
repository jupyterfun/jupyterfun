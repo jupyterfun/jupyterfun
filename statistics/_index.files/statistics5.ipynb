{
 "cells": [
  {
   "cell_type": "markdown",
   "metadata": {},
   "source": [
    "#  分类模型评估\n",
    "\n",
    "## 六, 分类模型评估\n",
    "\n",
    "在完成模型训练之后，需要对模型的效果进行评估，根据评估结果继续调整模型的参数, 特征或者算法，以达到满意的结果\n",
    "\n",
    "### 1, 混淆矩阵\n",
    "\n",
    "将 真正例(TP), 假正例(FP), 真负例(TN), 假负例(FN) 统计于一个方阵中, 观察比较, 评价模型好坏, 矩阵如下:\n",
    "\n",
    "![](/images/mathematical-statistics/hxjz.png)\n",
    "\n",
    "混淆矩阵统计数量, 评价不直观也有限, 基于混淆矩阵又延伸出 正确率, 精准率, 召回率, F1(调和平均值), ROC曲线和AUC等\n",
    "\n",
    "### 2, 评估指标分析\n",
    "\n",
    "**正确率:**\n",
    "\n",
    "$$\\text { 正确率 }=\\frac{T P+T N}{T P+T N+F P+F N}$$\n",
    "\n",
    "正确率, 表示总体(包括正负)预测正确的比率, 在模型对正例和负例的预测准确度差异较大时, 难以评价模型的好坏, 例如正例较多, 负例较少,\n",
    "正例全部预测对了, 负例只预测对几个, 正确率却可能较高\n",
    "\n",
    "**精准率:**\n",
    "\n",
    "$$\\text { 精准率 }=\\frac{T P}{T P+F P}$$\n",
    "\n",
    "精准率, 表示所有预测为正例的结果中 预测正确的正例 的占比, 精准率越高, 说明正例预测正确概率越高, 因此精准率更关注”一击必中”,\n",
    "比如通过预测找出上涨的概率很高的一支股票\n",
    "\n",
    "**召回率:**\n",
    "\n",
    "$$\\text { 召回率 }=\\frac{T P}{T P+F N}$$\n",
    "\n",
    "召回率, 表示所有真实的正例中, 预测正确的正例 的占比, 召回率越高, 说明正例被”召回”的越多, 因此召回率更关注”宁错一千, 不放一个”,\n",
    "例如通过预测尽可能将新冠肺炎患者全部隔离观察\n",
    "\n",
    "**调和平均值 F1** :\n",
    "\n",
    "$$F 1=\\frac{2 * \\text {精准率} * \\text {召回率}}{\\text {精准率}+\\text {召回率}}$$\n",
    "\n",
    "F1 将综合了精准率和召回率, F1越高, 说明模型预测效果越好, F1 能够直接评估模型的好坏\n",
    "\n",
    "**ROC曲线:**\n",
    "\n",
    "ROC (Receiver Operating Characteristic) 曲线, 用图像来描述分类模型的性能好坏. 图像纵轴为 真 正例率(TPR),\n",
    "横轴为 假 正例率(FPR):\n",
    "\n",
    "$$\\begin{array}{l}  \n",
    "T P R=\\text { 召回率 }=\\frac{T P}{T P+F N} \\  \n",
    "F P R=\\frac{F P}{F P+T N}  \n",
    "\\end{array}$$\n",
    "\n",
    "上述两式通过取分类模型的不同阈值, 从而计算出不同的值, 绘制出曲线, 曲线必过 (0,0) 和 (1, 1) 两个点, TPR 增长得越快,\n",
    "曲线越往上凸, 模型的分类性能就越好. 如果 ROC 曲线为对角线, 可将模型理解为随机猜测; 如果 ROC 曲线在 0 点 真 正例率就达到了 1,\n",
    "此时模型最完美\n",
    "\n",
    "**AUC:**\n",
    "\n",
    "AUC (Area Under the Curve), 是 ROC 曲线下面的面积, 因为有时通过 ROC 曲线看不出哪个分类模型性能好, 而 AUC\n",
    "比较数值就不存在这样的问题\n",
    "\n",
    "以鸢尾花数据集做如下练习:"
   ]
  },
  {
   "cell_type": "code",
   "execution_count": 1,
   "metadata": {},
   "outputs": [
    {
     "name": "stdout",
     "output_type": "stream",
     "text": [
      "[[15  1]\n",
      " [ 1  8]]\n"
     ]
    },
    {
     "data": {
      "text/plain": [
       "16"
      ]
     },
     "execution_count": 1,
     "metadata": {},
     "output_type": "execute_result"
    }
   ],
   "source": [
    "import numpy as np  \n",
    "from sklearn.datasets import load_iris  \n",
    "from sklearn.linear_model import LogisticRegression   \n",
    "from sklearn.model_selection import train_test_split  \n",
    "from sklearn.metrics import confusion_matrix  \n",
    "import matplotlib.pyplot as plt  \n",
    "import warnings  \n",
    "\n",
    "plt.rcParams[\"font.family\"] = \"SimHei\"  \n",
    "plt.rcParams[\"axes.unicode_minus\"] = False   \n",
    "plt.rcParams[\"font.size\"] = 12   \n",
    "warnings.filterwarnings(\"ignore\")  \n",
    "\n",
    "iris = load_iris()  \n",
    "x, y = iris.data, iris.target  \n",
    "x = x[y!=0, 2:]  \n",
    "y = y[y!=0]  \n",
    "x_train, x_test, y_train, y_test = train_test_split(x, y,  \n",
    "                        test_size=0.25, random_state=2)  \n",
    "lr = LogisticRegression()  \n",
    "lr.fit(x_train, y_train)  \n",
    "y_hat = lr.predict(x_test)  \n",
    "\n",
    "# 传入真实值与预测值, 创建混淆矩阵  \n",
    "matrix = confusion_matrix(y_true=y_test, y_pred=y_hat)  \n",
    "print(matrix)  \n",
    "y_hat[y_hat==1].sum()  "
   ]
  },
  {
   "cell_type": "code",
   "execution_count": 2,
   "metadata": {},
   "outputs": [
    {
     "data": {
      "image/png": "[encoded data removed]",
      "text/plain": [
       "<Figure size 288x288 with 1 Axes>"
      ]
     },
     "metadata": {
      "needs_background": "light"
     },
     "output_type": "display_data"
    }
   ],
   "source": [
    "# 将混淆矩阵可视化  \n",
    "mat = plt.matshow(matrix, cmap=plt.cm.Blues, alpha=0.5)  \n",
    "label = [\"负例\", \"正例\"]  \n",
    "\n",
    "# 获取当前的绘图对象  \n",
    "ax = plt.gca()  \n",
    "\n",
    "# 设置属性, 设类别 1 为负例  \n",
    "ax.set(  \n",
    "    xticks=np.arange(matrix.shape[1]),   \n",
    "    yticks=np.arange(matrix.shape[0]),  \n",
    "    xticklabels=label,   \n",
    "    yticklabels=label,   \n",
    "    title=\"混淆矩阵可视化\\n\",   \n",
    "    ylabel=\"真实值\",   \n",
    "    xlabel=\"预测值\")  \n",
    "\n",
    "# 设置统计值的位置  \n",
    "for i in range(matrix.shape[0]):  \n",
    "    for j in range(matrix.shape[1]):  \n",
    "        plt.text(x=j, y=i, s=matrix[i, j], va=\"center\", ha=\"center\")   \n",
    "\n",
    "plt.show()  "
   ]
  },
  {
   "cell_type": "code",
   "execution_count": 3,
   "metadata": {},
   "outputs": [
    {
     "name": "stdout",
     "output_type": "stream",
     "text": [
      "正确率： 0.92\n",
      "精准率： 0.8888888888888888\n",
      "召回率： 0.8888888888888888\n",
      "F1： 0.8888888888888888\n",
      "score方法计算正确率： 0.92\n"
     ]
    }
   ],
   "source": [
    "# 计算各个评估指标  \n",
    "from sklearn.metrics import accuracy_score, precision_score, recall_score, f1_score  \n",
    "\n",
    "print(\"正确率：\", accuracy_score(y_test, y_hat))  \n",
    "\n",
    "# 默认以 1 为正例, 我们将 2 设为正例  \n",
    "print(\"精准率：\", precision_score(y_test, y_hat, pos_label=2))  \n",
    "print(\"召回率：\", recall_score(y_test, y_hat, pos_label=2))  \n",
    "print(\"F1：\", f1_score(y_test, y_hat, pos_label=2))  \n",
    "\n",
    "# 也可以用逻辑回归模型对象的score方法计算正确率   \n",
    "print(\"score方法计算正确率：\", lr.score(x_test, y_test))  "
   ]
  },
  {
   "cell_type": "code",
   "execution_count": 4,
   "metadata": {},
   "outputs": [
    {
     "name": "stdout",
     "output_type": "stream",
     "text": [
      "              precision    recall  f1-score   support\n",
      "\n",
      "           1       0.94      0.94      0.94        16\n",
      "           2       0.89      0.89      0.89         9\n",
      "\n",
      "    accuracy                           0.92        25\n",
      "   macro avg       0.91      0.91      0.91        25\n",
      "weighted avg       0.92      0.92      0.92        25\n",
      "\n"
     ]
    }
   ],
   "source": [
    "# 还可以用 classification_report 方法直接计算各个指标  \n",
    "from sklearn.metrics import classification_report  \n",
    "print(classification_report(y_true=y_test, y_pred=y_hat))  "
   ]
  },
  {
   "cell_type": "code",
   "execution_count": 5,
   "metadata": {},
   "outputs": [
    {
     "name": "stdout",
     "output_type": "stream",
     "text": [
      "类别 2 的概率: [0.4663913  0.28570842 0.60050037 0.3758227  0.48450719]\n",
      "阈值: [1.69092453 0.69092453 0.60050037 0.54308778 0.50384451 0.49358343\n",
      " 0.48450719 0.47242245 0.4663913  0.42043757 0.39590375 0.39413886\n",
      " 0.3843811  0.24698327]\n",
      "用auc计算: 0.8819444444444444\n",
      "用roc_auc_score计算: 0.8819444444444444\n"
     ]
    }
   ],
   "source": [
    "# 绘制 ROC曲线 和计算 AUC  \n",
    "from sklearn.metrics import roc_curve, auc, roc_auc_score  \n",
    "\n",
    "iris = load_iris()  \n",
    "x, y = iris.data, iris.target  \n",
    "x = x[y!=0, 2:]  \n",
    "y = y[y!=0]  \n",
    "x_train, x_test, y_train, y_test = train_test_split(x, y,  \n",
    "                            test_size=0.25, random_state=2)  \n",
    "\n",
    "# 设置模型参数(有默认值可以不设), 并进行训练  \n",
    "# 不同的参数训练结果不一样, 需要注意参数之间关系  \n",
    "lr = LogisticRegression(multi_class=\"ovr\", solver=\"liblinear\")  \n",
    "# lr = LogisticRegression(multi_class=\"multinomial\")  \n",
    "lr.fit(x_train, y_train)  \n",
    "\n",
    "# 获取样本的概率  \n",
    "probo = lr.predict_proba(x_test)  \n",
    "print('类别 2 的概率:', probo[:, 1][:5])  \n",
    "\n",
    "# 将概率值传入 roc_curve 方法, 从概率中选择若干个值作为阈值  \n",
    "# 同时根据阈值判定正负例, 返回 fpr, tpr 和 阈值 thresholds  \n",
    "fpr, tpr, thresholds = roc_curve(y_true=y_test,  \n",
    "                       y_score=probo[:, 1], pos_label=2)  \n",
    "\n",
    "# 阈值中的第一个值是第二个值 +1 得到, 为了让让曲线过 0 点  \n",
    "print('阈值:', thresholds)  \n",
    "\n",
    "# 计算 AUC   \n",
    "print('用auc计算:', auc(fpr, tpr))  \n",
    "print('用roc_auc_score计算:', roc_auc_score(y_true=y_test,  \n",
    "                                    y_score=probo[:, 1]))  "
   ]
  },
  {
   "cell_type": "code",
   "execution_count": 6,
   "metadata": {},
   "outputs": [
    {
     "data": {
      "image/png": "[encoded data removed]",
      "text/plain": [
       "<Figure size 432x144 with 1 Axes>"
      ]
     },
     "metadata": {
      "needs_background": "light"
     },
     "output_type": "display_data"
    }
   ],
   "source": [
    "# 绘制 ROC 曲线  \n",
    "plt.figure(figsize=(6, 2))  \n",
    "plt.plot(fpr, tpr, marker=\"o\", label=\"ROC曲线\")  \n",
    "plt.plot([0,1], [0,1], lw=2, ls=\"--\", label=\"随机猜测\")   \n",
    "plt.plot([0, 0, 1], [0, 1, 1], lw=2, ls=\"-.\", label=\"完美预测\")   \n",
    "plt.xlim(-0.01, 1.02)  \n",
    "plt.ylim(-0.01, 1.02)  \n",
    "plt.xticks(np.arange(0, 1.1, 0.2))  \n",
    "plt.yticks(np.arange(0, 1.1, 0.2))  \n",
    "plt.xlabel(\"FPR\")  \n",
    "plt.ylabel(\"TPR\")  \n",
    "plt.grid()  \n",
    "plt.title(f\"ROC曲线, AUC值为:{auc(fpr, tpr):.2f}\")  \n",
    "plt.legend()  \n",
    "plt.show()  "
   ]
  }
 ],
 "metadata": {
  "kernelspec": {
   "display_name": "Python 3 (ipykernel)",
   "language": "python",
   "name": "python3"
  },
  "language_info": {
   "codemirror_mode": {
    "name": "ipython",
    "version": 3
   },
   "file_extension": ".py",
   "mimetype": "text/x-python",
   "name": "python",
   "nbconvert_exporter": "python",
   "pygments_lexer": "ipython3",
   "version": "3.9.7"
  }
 },
 "nbformat": 4,
 "nbformat_minor": 4
}
