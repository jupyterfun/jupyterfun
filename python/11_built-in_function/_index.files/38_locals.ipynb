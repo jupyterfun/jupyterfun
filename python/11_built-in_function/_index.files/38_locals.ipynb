{
 "cells": [
  {
   "cell_type": "markdown",
   "metadata": {},
   "source": [
    "## locals() 返回局部变量的字典"
   ]
  },
  {
   "cell_type": "markdown",
   "metadata": {},
   "source": [
    "内置函数 locals()，Python 官方文档描述如下："
   ]
  },
  {
   "cell_type": "code",
   "execution_count": 1,
   "metadata": {},
   "outputs": [
    {
     "name": "stdout",
     "output_type": "stream",
     "text": [
      "Help on built-in function locals in module builtins:\n",
      "\n",
      "locals()\n",
      "    Return a dictionary containing the current scope's local variables.\n",
      "    \n",
      "    NOTE: Whether or not updates to this dictionary will affect name lookups in\n",
      "    the local scope and vice-versa is *implementation dependent* and not\n",
      "    covered by any backwards compatibility guarantees.\n",
      "\n"
     ]
    }
   ],
   "source": [
    "help(locals)"
   ]
  },
  {
   "cell_type": "markdown",
   "metadata": {},
   "source": [
    "返回包含当前作用域的局部变量的字典。在模块层级上，locals() 和 globals() 是同一个字典。\n",
    "\n",
    "globals() 和 locals() 函数各自返回当前的全局和本地字典，因此可以将它们传递给 eval() 或 exec() 来使用。"
   ]
  },
  {
   "cell_type": "code",
   "execution_count": 2,
   "metadata": {},
   "outputs": [
    {
     "data": {
      "text/plain": [
       "{'__name__': '__main__',\n",
       " '__doc__': 'Automatically created module for IPython interactive environment',\n",
       " '__package__': None,\n",
       " '__loader__': None,\n",
       " '__spec__': None,\n",
       " '__builtin__': <module 'builtins' (built-in)>,\n",
       " '__builtins__': <module 'builtins' (built-in)>,\n",
       " '_ih': ['', 'help(locals)', 'locals()'],\n",
       " '_oh': {},\n",
       " '_dh': ['D:\\\\Jupyter\\\\xuecn_books\\\\books\\\\xue_python_kp\\\\11_built-in_function'],\n",
       " 'In': ['', 'help(locals)', 'locals()'],\n",
       " 'Out': {},\n",
       " 'get_ipython': <bound method InteractiveShell.get_ipython of <ipykernel.zmqshell.ZMQInteractiveShell object at 0x0000023E24AE89B0>>,\n",
       " 'exit': <IPython.core.autocall.ZMQExitAutocall at 0x23e27368898>,\n",
       " 'quit': <IPython.core.autocall.ZMQExitAutocall at 0x23e27368898>,\n",
       " '_': '',\n",
       " '__': '',\n",
       " '___': '',\n",
       " '_i': 'help(locals)',\n",
       " '_ii': '',\n",
       " '_iii': '',\n",
       " '_i1': 'help(locals)',\n",
       " '_i2': 'locals()'}"
      ]
     },
     "execution_count": 2,
     "metadata": {},
     "output_type": "execute_result"
    }
   ],
   "source": [
    "locals()"
   ]
  },
  {
   "cell_type": "code",
   "execution_count": 3,
   "metadata": {},
   "outputs": [
    {
     "name": "stdout",
     "output_type": "stream",
     "text": [
      "{'a': 1}\n"
     ]
    }
   ],
   "source": [
    "def f():\n",
    "    a = 1\n",
    "    print(locals())\n",
    "f()"
   ]
  }
 ],
 "metadata": {
  "kernelspec": {
   "display_name": "Python 3",
   "language": "python",
   "name": "python3"
  },
  "language_info": {
   "codemirror_mode": {
    "name": "ipython",
    "version": 3
   },
   "file_extension": ".py",
   "mimetype": "text/x-python",
   "name": "python",
   "nbconvert_exporter": "python",
   "pygments_lexer": "ipython3",
   "version": "3.8.3"
  }
 },
 "nbformat": 4,
 "nbformat_minor": 4
}