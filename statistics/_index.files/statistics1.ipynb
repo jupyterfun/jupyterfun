{
 "cells": [
  {
   "cell_type": "markdown",
   "metadata": {},
   "source": [
    "#  描述统计\n",
    "\n",
    "## 一, 数理统计介绍\n",
    "\n",
    "数理统计以概率论为基础, 研究大量随机现象的统计规律性. 分为 **描述统计** 和 **推断统计** , 在数据分析领域具有非常重要的地位\n",
    "\n",
    "## 二, 描述统计\n",
    "\n",
    "描述统计, 就是从总体数据中提取变量的主要信息(总和, 均值, 最大, 最多等), 从而从总体层面上, 对数据进行统计性描述.\n",
    "通常配合绘制相关统计图进行辅助\n",
    "\n",
    "### 2.01, 统计学的变量类型\n",
    "\n",
    "统计学中的变量指研究对象的特征(属性), 每个变量都有变量值和类型, 类型可分为:\n",
    "\n",
    "**类别变量** : 对研究对象定性, 分类\n",
    "\n",
    "类别变量又可分为:\n",
    "\n",
    "  * 有序类别变量: 描述对象等级或顺序等, 例如, 优良中差\n",
    "  * 无序类别变量: 仅做分类, 例如 A, B 血型, 男女\n",
    "\n",
    "**数值变量** : 对研究对象定量描述\n",
    "\n",
    "数值变量又可分为:\n",
    "\n",
    "  * 离散变量: 取值只能用自然数或整数个单位计算, 例如统计人数\n",
    "  * 连续变量: 在一定区间内可以任意取值, 例如计算身高\n",
    "\n",
    "数值变量对加, 减, 求平均等操作有意义, 而类别变量无意义\n",
    "\n",
    "### 2.02, 统计量\n",
    "\n",
    "描述统计所提取的统计信息, 称为统计量, 主要包括:\n",
    "\n",
    "  * 类别分析: 频数, 频率\n",
    "  * 集中趋势分析: 均值, 中位数, 众数, 分位数\n",
    "  * 离散程度分析: 极差, 方差, 标准差\n",
    "  * 描述分布形状: 偏度, 峰度\n",
    "\n",
    "准备数据:"
   ]
  },
  {
   "cell_type": "code",
   "execution_count": 1,
   "metadata": {},
   "outputs": [
    {
     "data": {
      "text/html": [
       "<div>\n",
       "<style scoped>\n",
       "    .dataframe tbody tr th:only-of-type {\n",
       "        vertical-align: middle;\n",
       "    }\n",
       "\n",
       "    .dataframe tbody tr th {\n",
       "        vertical-align: top;\n",
       "    }\n",
       "\n",
       "    .dataframe thead th {\n",
       "        text-align: right;\n",
       "    }\n",
       "</style>\n",
       "<table border=\"1\" class=\"dataframe\">\n",
       "  <thead>\n",
       "    <tr style=\"text-align: right;\">\n",
       "      <th></th>\n",
       "      <th>data1</th>\n",
       "      <th>left_data</th>\n",
       "      <th>right_data</th>\n",
       "      <th>type_data</th>\n",
       "    </tr>\n",
       "  </thead>\n",
       "  <tbody>\n",
       "    <tr>\n",
       "      <th>202</th>\n",
       "      <td>13.0</td>\n",
       "      <td>27.0</td>\n",
       "      <td>8.0</td>\n",
       "      <td>0.0</td>\n",
       "    </tr>\n",
       "    <tr>\n",
       "      <th>595</th>\n",
       "      <td>12.0</td>\n",
       "      <td>23.0</td>\n",
       "      <td>15.0</td>\n",
       "      <td>0.0</td>\n",
       "    </tr>\n",
       "    <tr>\n",
       "      <th>523</th>\n",
       "      <td>11.0</td>\n",
       "      <td>21.0</td>\n",
       "      <td>20.0</td>\n",
       "      <td>1.0</td>\n",
       "    </tr>\n",
       "    <tr>\n",
       "      <th>259</th>\n",
       "      <td>12.0</td>\n",
       "      <td>29.0</td>\n",
       "      <td>8.0</td>\n",
       "      <td>0.0</td>\n",
       "    </tr>\n",
       "    <tr>\n",
       "      <th>498</th>\n",
       "      <td>12.0</td>\n",
       "      <td>24.0</td>\n",
       "      <td>3.0</td>\n",
       "      <td>0.0</td>\n",
       "    </tr>\n",
       "    <tr>\n",
       "      <th>110</th>\n",
       "      <td>8.0</td>\n",
       "      <td>27.0</td>\n",
       "      <td>1.0</td>\n",
       "      <td>0.0</td>\n",
       "    </tr>\n",
       "    <tr>\n",
       "      <th>65</th>\n",
       "      <td>7.0</td>\n",
       "      <td>12.0</td>\n",
       "      <td>5.0</td>\n",
       "      <td>0.0</td>\n",
       "    </tr>\n",
       "    <tr>\n",
       "      <th>231</th>\n",
       "      <td>13.0</td>\n",
       "      <td>25.0</td>\n",
       "      <td>2.0</td>\n",
       "      <td>0.0</td>\n",
       "    </tr>\n",
       "    <tr>\n",
       "      <th>321</th>\n",
       "      <td>8.0</td>\n",
       "      <td>30.0</td>\n",
       "      <td>3.0</td>\n",
       "      <td>0.0</td>\n",
       "    </tr>\n",
       "    <tr>\n",
       "      <th>544</th>\n",
       "      <td>5.0</td>\n",
       "      <td>29.0</td>\n",
       "      <td>19.0</td>\n",
       "      <td>1.0</td>\n",
       "    </tr>\n",
       "  </tbody>\n",
       "</table>\n",
       "</div>"
      ],
      "text/plain": [
       "     data1  left_data  right_data  type_data\n",
       "202   13.0       27.0         8.0        0.0\n",
       "595   12.0       23.0        15.0        0.0\n",
       "523   11.0       21.0        20.0        1.0\n",
       "259   12.0       29.0         8.0        0.0\n",
       "498   12.0       24.0         3.0        0.0\n",
       "110    8.0       27.0         1.0        0.0\n",
       "65     7.0       12.0         5.0        0.0\n",
       "231   13.0       25.0         2.0        0.0\n",
       "321    8.0       30.0         3.0        0.0\n",
       "544    5.0       29.0        19.0        1.0"
      ]
     },
     "execution_count": 1,
     "metadata": {},
     "output_type": "execute_result"
    }
   ],
   "source": [
    "import numpy as np  \n",
    "import pandas as pd  \n",
    "import matplotlib.pyplot as plt  \n",
    "import seaborn as sns  \n",
    "\n",
    "plt.rcParams['font.family'] = 'SimHei'  \n",
    "plt.rcParams['axes.unicode_minus'] = False  \n",
    "\n",
    "# 正态分布  \n",
    "data1 = np.around(np.random.normal(10, 3, 600)).reshape(-1, 1)  \n",
    "\n",
    "# 左偏  \n",
    "t1 = np.random.randint(1, 21, size=100)  \n",
    "t2 = np.random.randint(21, 31, size=500)  \n",
    "left_data = np.concatenate([t1, t2]).reshape(-1, 1)  \n",
    "\n",
    "# 右偏  \n",
    "t3 = np.random.randint(1, 11, size=500)  \n",
    "t4 = np.random.randint(11, 21, size=100)  \n",
    "right_data = np.concatenate([t3, t4]).reshape(-1, 1)  \n",
    "\n",
    "# 类别  \n",
    "type_data = np.random.randint(0, 2, size=600).reshape(-1, 1)  \n",
    "\n",
    "data = np.concatenate([data1, left_data, right_data, type_data], axis=1)  \n",
    "data = pd.DataFrame(data,  \n",
    "                   columns=['data1', 'left_data', 'right_data', 'type_data'])  \n",
    "# 随机取 10 条数据  \n",
    "data.sample(10)  \n"
   ]
  },
  {
   "cell_type": "markdown",
   "metadata": {
    "tags": []
   },
   "source": [
    "#### a, 频数\n",
    "\n",
    "数据中某个类别出现的次数称为该类别的频数\n",
    "\n",
    "例如, 计算上述两个类别(`0.0` 和 `1.0`)出现的频数:"
   ]
  },
  {
   "cell_type": "code",
   "execution_count": 2,
   "metadata": {
    "tags": []
   },
   "outputs": [
    {
     "data": {
      "text/plain": [
       "0.0    309\n",
       "1.0    291\n",
       "Name: type_data, dtype: int64"
      ]
     },
     "execution_count": 2,
     "metadata": {},
     "output_type": "execute_result"
    }
   ],
   "source": [
    "frequency = data['type_data'].value_counts()  \n",
    "frequency "
   ]
  },
  {
   "cell_type": "markdown",
   "metadata": {
    "tags": []
   },
   "source": [
    "#### b, 频率\n",
    "\n",
    "数据中某个类别出现次数与总次数的比值称为该类别的频率\n",
    "\n",
    "例如, 计算上述两个类别(`0.0` 和 `1.0`)出现的频率:"
   ]
  },
  {
   "cell_type": "code",
   "execution_count": 3,
   "metadata": {
    "tags": []
   },
   "outputs": [
    {
     "data": {
      "text/plain": [
       "0.0    51.5\n",
       "1.0    48.5\n",
       "Name: type_data, dtype: float64"
      ]
     },
     "execution_count": 3,
     "metadata": {},
     "output_type": "execute_result"
    }
   ],
   "source": [
    "percentage = frequency * 100 / len(data)  \n",
    "percentage  "
   ]
  },
  {
   "cell_type": "markdown",
   "metadata": {
    "tags": []
   },
   "source": [
    "#### c, 均值\n",
    "\n",
    "平均值, 一组数据的总和除以数据的个数\n",
    "\n",
    "#### d, 中位数\n",
    "\n",
    "将一组数据按顺序排列, 位于最中间位置的值, 即是中位数, 如果数据个数为偶数, 取中间两个的平均值\n",
    "\n",
    "#### e, 众数\n",
    "\n",
    "一组数据中出现次数最多的值\n",
    "\n",
    "通常三者的关系如下图所示:\n",
    "\n",
    "![](/images/mathematical-statistics/fenbu.png)\n",
    "\n",
    "**注意点** :  \n",
    "数值变量通常使用均值和中值表示集中趋势, 类别变量则通常使用众数  \n",
    "正态分布下, 数据量足够多, 三者相同  \n",
    "均值使用所有数据计算, 容易受极端值影响, 中位数和众数则不会  \n",
    "众数在一组数据中可能不唯一\n",
    "\n",
    "例, 计算字段 `data1` 的均值, 中位数和众数:"
   ]
  },
  {
   "cell_type": "code",
   "execution_count": 4,
   "metadata": {
    "tags": []
   },
   "outputs": [
    {
     "name": "stdout",
     "output_type": "stream",
     "text": [
      "均值:10.121666666666666 中位数:10.0\n",
      "众数:\n",
      "0    9.0\n",
      "dtype: float64\n"
     ]
    }
   ],
   "source": [
    "mean = data['data1'].mean()  \n",
    "median = data['data1'].median()  \n",
    "mode = data['data1'].mode()  \n",
    "print(f'均值:{mean} 中位数:{median}\\n众数:\\n{mode}')  "
   ]
  },
  {
   "cell_type": "markdown",
   "metadata": {
    "tags": []
   },
   "source": [
    "#### f, 分位数\n",
    "\n",
    "通过 n - 1 个分位, 将升序排列的数据分为 n 个区间, 使得每个区间数值个数相等(或近似相等), 则每个分位对应的数, 就是该 n 分位的分位数.\n",
    "常用的有四分位数和百分位数\n",
    "\n",
    "以四分位数为例:  \n",
    "第一个分位称为 1/4 分位(下四分位), 第二个称为 2/4 分位(中四分位), 第三个称为 3/4 分位(上四分位), 其中中四分位数, 其实就是中位数\n",
    "\n",
    "求四分位的值:\n",
    "\n",
    "* 首先计算各个分位的位置  \n",
    "index1 = (n - 1) * 0.25  \n",
    "index2 = (n - 1) * 0.5  \n",
    "index3 = (n - 1) * 0.75  \n",
    "(index 从 0 开始, n 为元素的个数)\n",
    "\n",
    "* 根据位置计算各个分位的值  \n",
    "index 为整数, 值就是相应的 index 对应的元素  \n",
    "index 不为整数, 四分位位置介于 ceil(index) 和 floor(index) 之间, 加权计算分位值\n",
    "\n",
    "例, 求 x 的四分位数:  \n",
    "**index 为整数**"
   ]
  },
  {
   "cell_type": "code",
   "execution_count": 5,
   "metadata": {
    "tags": []
   },
   "outputs": [
    {
     "data": {
      "text/plain": [
       "array([2, 4, 6])"
      ]
     },
     "execution_count": 5,
     "metadata": {},
     "output_type": "execute_result"
    }
   ],
   "source": [
    "x = np.arange(0, 9)  \n",
    "n = len(x)  \n",
    "\n",
    "index1 = (n - 1) * 0.25  \n",
    "index2 = (n - 1) * 0.5    \n",
    "index3 = (n - 1) * 0.75    \n",
    "\n",
    "index = np.array([index1, index2, index3]).astype(np.int32)  \n",
    "x[index]  "
   ]
  },
  {
   "cell_type": "markdown",
   "metadata": {
    "tags": []
   },
   "source": [
    "**index 不是整数**"
   ]
  },
  {
   "cell_type": "code",
   "execution_count": 6,
   "metadata": {
    "tags": []
   },
   "outputs": [
    {
     "data": {
      "text/plain": [
       "array([2.25, 4.5 , 6.75])"
      ]
     },
     "execution_count": 6,
     "metadata": {},
     "output_type": "execute_result"
    }
   ],
   "source": [
    "x = np.arange(0, 10)  \n",
    "n = len(x)  \n",
    "\n",
    "index1 = (n - 1) * 0.25  \n",
    "index2 = (n - 1) * 0.5    \n",
    "index3 = (n - 1) * 0.75    \n",
    "\n",
    "index = np.array([index1, index2, index3])  \n",
    "left = np.floor(index).astype(np.int32)  \n",
    "right = np.ceil(index).astype(np.int32)  \n",
    "weight, _ = np.modf(index) # 获取 index 整数和小数部分  \n",
    "\n",
    "result = x[left] * (1 - weight) + x[right] * weight  \n",
    "result  "
   ]
  },
  {
   "cell_type": "markdown",
   "metadata": {
    "tags": []
   },
   "source": [
    "Numpy 中计算分位数可直接用方法 `np.quantile` 和 `np.percentile`"
   ]
  },
  {
   "cell_type": "code",
   "execution_count": 7,
   "metadata": {
    "tags": []
   },
   "outputs": [
    {
     "data": {
      "text/plain": [
       "(array([2.25, 4.5 , 6.75]), array([2.25, 4.5 , 6.75]))"
      ]
     },
     "execution_count": 7,
     "metadata": {},
     "output_type": "execute_result"
    }
   ],
   "source": [
    "np.quantile(x, q=[0.25, 0.5, 0.75]), np.percentile(x, q=[25, 50, 75])  "
   ]
  },
  {
   "cell_type": "markdown",
   "metadata": {
    "tags": []
   },
   "source": [
    "Pandas 中计算分位数可利用 `describe` (默认 4 分位)"
   ]
  },
  {
   "cell_type": "code",
   "execution_count": 8,
   "metadata": {
    "tags": []
   },
   "outputs": [
    {
     "data": {
      "text/plain": [
       "count    10.00000\n",
       "mean      4.50000\n",
       "std       3.02765\n",
       "min       0.00000\n",
       "25%       2.25000\n",
       "50%       4.50000\n",
       "75%       6.75000\n",
       "max       9.00000\n",
       "dtype: float64"
      ]
     },
     "execution_count": 8,
     "metadata": {},
     "output_type": "execute_result"
    }
   ],
   "source": [
    "s = pd.Series(x)  \n",
    "s.describe()  "
   ]
  },
  {
   "cell_type": "code",
   "execution_count": 9,
   "metadata": {
    "tags": []
   },
   "outputs": [
    {
     "data": {
      "text/plain": [
       "25%    2.25\n",
       "50%    4.50\n",
       "75%    6.75\n",
       "dtype: float64"
      ]
     },
     "execution_count": 9,
     "metadata": {},
     "output_type": "execute_result"
    }
   ],
   "source": [
    "s.describe().iloc[4:7]  "
   ]
  },
  {
   "cell_type": "markdown",
   "metadata": {
    "tags": []
   },
   "source": [
    "可自定义分位:"
   ]
  },
  {
   "cell_type": "code",
   "execution_count": 10,
   "metadata": {
    "tags": []
   },
   "outputs": [
    {
     "data": {
      "text/plain": [
       "count    10.00000\n",
       "mean      4.50000\n",
       "std       3.02765\n",
       "min       0.00000\n",
       "15%       1.35000\n",
       "40%       3.60000\n",
       "50%       4.50000\n",
       "80%       7.20000\n",
       "max       9.00000\n",
       "dtype: float64"
      ]
     },
     "execution_count": 10,
     "metadata": {},
     "output_type": "execute_result"
    }
   ],
   "source": [
    "s.describe(percentiles=[0.15, 0.4, 0.8])  "
   ]
  },
  {
   "cell_type": "markdown",
   "metadata": {
    "tags": []
   },
   "source": [
    "#### g, 极差\n",
    "\n",
    "一组数据中, 最大值与最小值之差\n",
    "\n",
    "#### h, 方差\n",
    "\n",
    "方差体现一组数据中, 每个元素与均值的偏离程度\n",
    "\n",
    "$$\\sigma^{2}=\\frac{1}{n-1} \\sum_{i=1}^{n}\\left(x_{i}-\\bar{x}\\right)^{2}$$\n",
    "\n",
    "$x_{i}:$ 数组中的每个元素  \n",
    "$n:$ 数组元素的个数  \n",
    "$\\bar{x}:$ 数组中所有元素的均值\n",
    "\n",
    "#### i, 标准差\n",
    "\n",
    "标准差为方差的开方. 方差和标准差可以体现数据的分散性, 越大越分散, 越小越集中. 也可体现数据波动性(稳定性), 越大波动越大, 反之亦然\n",
    "\n",
    "当数据足够多时, 可用 n 代替 n - 1\n",
    "\n",
    "例, 计算 `left_data` 字段的极差, 方差, 标准差:"
   ]
  },
  {
   "cell_type": "code",
   "execution_count": 11,
   "metadata": {
    "tags": []
   },
   "outputs": [
    {
     "data": {
      "text/plain": [
       "(29.0, 44.631048970506306, 6.680647346665315)"
      ]
     },
     "execution_count": 11,
     "metadata": {},
     "output_type": "execute_result"
    }
   ],
   "source": [
    "sub = np.ptp(data['left_data'])  \n",
    "var = data['left_data'].var()  \n",
    "std = data['left_data'].std()  \n",
    "sub, var, std  "
   ]
  },
  {
   "cell_type": "markdown",
   "metadata": {
    "tags": []
   },
   "source": [
    "绘图对比 `data1` 和 `left_data` 的分散程度"
   ]
  },
  {
   "cell_type": "code",
   "execution_count": 12,
   "metadata": {
    "tags": []
   },
   "outputs": [
    {
     "data": {
      "image/png": "[encoded data removed]",
      "text/plain": [
       "<Figure size 792x72 with 1 Axes>"
      ]
     },
     "metadata": {
      "needs_background": "light"
     },
     "output_type": "display_data"
    }
   ],
   "source": [
    "plt.figure(figsize=(11, 1))  \n",
    "plt.ylim(-0.5, 1.5)  \n",
    "plt.plot(data['data1'], np.zeros(len(data)), ls='', marker='o', color='r', label='data1')  \n",
    "plt.plot(data['left_data'], np.ones(len(data)), ls='', marker='o', color='g', label='left_data')  \n",
    "plt.axvline(data['data1'].mean(), ls='--', color='r', label='data1均值')  \n",
    "plt.axvline(data['left_data'].mean(), ls='--', color='g', label='left_data均值')  \n",
    "plt.legend()  \n",
    "plt.show()  "
   ]
  },
  {
   "cell_type": "markdown",
   "metadata": {
    "tags": []
   },
   "source": [
    "#### j, 偏度\n",
    "\n",
    "统计数据分布偏斜方向和程度的度量, 统计数据分布非对称程度的数字特征, 偏度为 0 , 对称分布, 小于 0, 左偏分别, 大于 0, 右偏分布\n",
    "\n",
    "#### k, 峰度\n",
    "\n",
    "表征概率密度分布曲线在平均值处峰值高低的特征数. 直观看来, 峰度反映了峰部的尖度, 峰度高意味着标准差增大是由低频度的大于或小于平均值的极端差值引起的.\n",
    "在相同的标准差下，峰度越大，分布就有更多的极端值，那么其余值必然要更加集中在众数周围，其分布必然就更加陡峭\n",
    "\n",
    "样本的峰度是和正态分布相比较而言的统计量, 符合正态分布的峰度为 0\n",
    "\n",
    "例, 计算 `data` 中前三个字段的偏度, 峰度与标准差, 并绘图比较:"
   ]
  },
  {
   "cell_type": "code",
   "execution_count": 13,
   "metadata": {
    "tags": []
   },
   "outputs": [
    {
     "name": "stdout",
     "output_type": "stream",
     "text": [
      "偏度: 0.0013827051273872734 -1.704193031847586 0.9122511031664028\n",
      "峰度: 0.01807838530280126 2.5013831586663304 0.29539776195275813\n",
      "标准差: 2.891504548352662 6.680647346665315 4.672046842962734\n"
     ]
    }
   ],
   "source": [
    "print('偏度:', data['data1'].skew(), data['left_data'].skew(), data['right_data'].skew())  \n",
    "print('峰度:', data['data1'].kurt(), data['left_data'].kurt(), data['right_data'].kurt())  \n",
    "print('标准差:', data['data1'].std(), data['left_data'].std(), data['right_data'].std())  "
   ]
  },
  {
   "cell_type": "code",
   "execution_count": 14,
   "metadata": {
    "tags": []
   },
   "outputs": [
    {
     "data": {
      "image/png": "[encoded data removed]",
      "text/plain": [
       "<Figure size 432x288 with 1 Axes>"
      ]
     },
     "metadata": {
      "needs_background": "light"
     },
     "output_type": "display_data"
    }
   ],
   "source": [
    "sns.kdeplot(data['data1'], shade=True, label='正态')  \n",
    "sns.kdeplot(data['left_data'], shade=True, label='左偏')  \n",
    "sns.kdeplot(data['right_data'], shade=True, label='右偏')  \n",
    "plt.show()  "
   ]
  }
 ],
 "metadata": {
  "kernelspec": {
   "display_name": "Python 3 (ipykernel)",
   "language": "python",
   "name": "python3"
  },
  "language_info": {
   "codemirror_mode": {
    "name": "ipython",
    "version": 3
   },
   "file_extension": ".py",
   "mimetype": "text/x-python",
   "name": "python",
   "nbconvert_exporter": "python",
   "pygments_lexer": "ipython3",
   "version": "3.9.7"
  }
 },
 "nbformat": 4,
 "nbformat_minor": 4
}
