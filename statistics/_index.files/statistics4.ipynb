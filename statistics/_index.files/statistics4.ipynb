{
 "cells": [
  {
   "cell_type": "markdown",
   "metadata": {},
   "source": [
    "#  逻辑回归\n",
    "\n",
    "## 五, 逻辑回归\n",
    "\n",
    "逻辑回归和线性回归有类似之处, 都是利用线性加权计算的模型, 但逻辑回归是分类算法, 例如对是否患癌症进行预测, 因变量就是 **是** 和 **否** ,\n",
    "两个类别, 自变量可以是年龄, 性别, 饮食, 作息, 病菌感染等, 自变量既可以是数值变量, 也可以是类别变量\n",
    "\n",
    "### 1, 逻辑回归二分类推导\n",
    "\n",
    "和线性回归类似, 设自变量为 x, 每个自变量的权重为 w, 令:\n",
    "\n",
    "$$  \n",
    "\\begin{array}{l}  \n",
    "z=w_{1} x_{1}+w_{2} x_{2}+\\cdots+w_{n} x_{n}+b \\  \n",
    "=\\sum_{j=1}^{n} w_{j} x_{j}+b \\  \n",
    "=\\sum_{j=0}^{n} w_{j} x_{j} \\  \n",
    "=\\vec{w}^{T} \\cdot \\vec{x}  \n",
    "\\end{array}  \n",
    "$$\n",
    "\n",
    "z 是一个连续值, 取值范围(-∞, +∞), 为了实现分类, 一般设置阈值 z = 0, 当 z > 0 时, 将样本判定为一个类别(正例), 该类别设为\n",
    "1, 当 z ≤ 0 时, 判定为另一个类别(负例), 该类别设为 0, 再设因变量为 y, 从而逻辑回归方程可表示为:\n",
    "\n",
    "$y=1, z>0$\n",
    "\n",
    "$y=0, z \\leq 0$\n",
    "\n",
    "上述方程虽然实现了分类, 但提供的信息有限, 因此引入 **sigmoid函数** (也叫 Logistic函数), 将 z 映射到 (0, 1)\n",
    "区间，可以实现二分类的同时, 还能体现将样本分为某个类的可能性, 这个可能性设为 p:\n",
    "\n",
    "$$p=\\operatorname{sigmoid}(z)=\\frac{1}{1+e^{-z}}$$\n",
    "\n",
    "sigmoid 函数图像如下:\n",
    "\n",
    "![](/images/mathematical-statistics/sigmoid.png)\n",
    "\n",
    "于是, 逻辑回归方程又可表示为:\n",
    "\n",
    "$y=1, p>0.5$\n",
    "\n",
    "$y=0, 1-p \\geq 0.5$\n",
    "\n",
    "从而可见, 通过比较 p 和 1-p 哪个更大(z 的阈值不取 0 时做出调整即可), 预测结果就是对应的一类\n",
    "\n",
    "### 2, 逻辑回归的损失函数\n",
    "\n",
    "通过上述推导过程可知, 要得到逻辑回归模型, 最终就是要求得参数 $\\vec{w}^{T}$, 于是将 p 和 1-p 统一, 构造一个损失函数来求\n",
    "$\\vec{w}^{T}$:\n",
    "\n",
    "$$p(y=1 | x ; w)=s(z)$$\n",
    "\n",
    "$$p(y=0 | x ; w)=1-s(z)$$\n",
    "\n",
    "合并:\n",
    "\n",
    "$$p(y | x ; w)=s(z)^{y}(1-s(z))^{1-y}$$\n",
    "\n",
    "上式表示一个样本的概率, 我们要求解能够使所有样本联合概率密度最大的 $\\vec{w}^{T}$ 值, 根据极大似然估计,\n",
    "所有样本的联合概率密度函数(似然函数)为:\n",
    "\n",
    "$$\\begin{array}{l}  \n",
    "L(w)=\\prod_{i=1}^{m} p\\left(y^{(i)} | x^{(i)} ; w\\right) \\  \n",
    "=\\prod_{i=1}^{m}\n",
    "s\\left(z^{(i)}\\right)^{y^{(i)}}\\left(1-s\\left(z^{(i)}\\right)\\right)^{1-y^{(i)}}  \n",
    "\\end{array}$$\n",
    "\n",
    "取对数, 让累积乘积变累积求和:\n",
    "\n",
    "$$\\begin{array}{l}  \n",
    "\\ln L(w)=\\ln \\left(\\prod_{i=1}^{m}\n",
    "s\\left(z^{(i)}\\right)^{y^{(i)}}\\left(1-s\\left(z^{(i)}\\right)^{1-y^{(i)}}\\right)\\right)\n",
    "\\  \n",
    "=\\sum_{i=1}^{m}\\left(y^{(i)} \\ln s\\left(z^{(i)}\\right)+\\left(1-y^{(i)}\\right)\n",
    "\\ln \\left(1-s\\left(z^{(i)}\\right)\\right)\\right)  \n",
    "\\end{array}$$\n",
    "\n",
    "要求上式最大值, 取反变成求最小值, 就作为逻辑回归的损失函数(交叉熵损失函数):\n",
    "\n",
    "$$J(w)=-\\sum_{i=1}^{m}\\left(y^{(i)} \\ln\n",
    "s\\left(z^{(i)}\\right)+\\left(1-y^{(i)}\\right) \\ln\n",
    "\\left(1-s\\left(z^{(i)}\\right)\\right)\\right)$$\n",
    "\n",
    "利用梯度下降法最终求得 $\\vec{w}^{T}$ (省略)\n",
    "\n",
    "例, 对鸢尾花实现二分类并分析:"
   ]
  },
  {
   "cell_type": "code",
   "execution_count": 11,
   "metadata": {
    "jp-MarkdownHeadingCollapsed": true,
    "tags": []
   },
   "outputs": [
    {
     "name": "stdout",
     "output_type": "stream",
     "text": [
      "权重: [[2.54536368 2.15257324]]\n",
      "偏置: [-16.08741502]\n",
      "真实值: [2 1 2 1 1 1 1 1 1 1 2 2 2 1 1 1 1 1 2 2 1 1 2 1 2]\n",
      "预测值: [2 1 1 1 1 1 1 2 1 1 2 2 2 1 1 1 1 1 2 2 1 1 2 1 2]\n"
     ]
    }
   ],
   "source": [
    "from sklearn.linear_model import LogisticRegression  \n",
    "from sklearn.model_selection import train_test_split  \n",
    "from sklearn.datasets import load_iris  \n",
    "import warnings  \n",
    "\n",
    "warnings.filterwarnings('ignore')  \n",
    "\n",
    "iris = load_iris()  \n",
    "x, y = iris.data, iris.target  \n",
    "\n",
    "# 鸢尾花数据集有 3 个类别, 4 个特性, 取两个类别, 两个特性  \n",
    "x = x[y!=0, 2:]  \n",
    "y = y[y!=0]  \n",
    "\n",
    "# 拆分训练集与测试集  \n",
    "x_train, x_test, y_train, y_test = train_test_split(x, y,  \n",
    "        test_size=0.25, random_state=2)  \n",
    "\n",
    "# 训练分类模型  \n",
    "lr = LogisticRegression()  \n",
    "lr.fit(x_train, y_train)  \n",
    "\n",
    "# 测试  \n",
    "y_hat = lr.predict(x_test)  \n",
    "print('权重:', lr.coef_)  \n",
    "print('偏置:', lr.intercept_)  \n",
    "print('真实值:', y_test)  \n",
    "print('预测值:', y_hat)  "
   ]
  },
  {
   "cell_type": "markdown",
   "metadata": {},
   "source": [
    "---|---  \n",
    "\n",
    "\n",
    "权重: [[2.54536368 2.15257324]]\n",
    "偏置: [-16.08741502]\n",
    "真实值: [2 1 2 1 1 1 1 1 1 1 2 2 2 1 1 1 1 1 2 2 1 1 2 1 2]\n",
    "预测值: [2 1 1 1 1 1 1 2 1 1 2 2 2 1 1 1 1 1 2 2 1 1 2 1 2]\n",
    "\n",
    "\n",
    "1  \n",
    "2  \n",
    "3  \n",
    "4  \n",
    "5  \n",
    "6  \n",
    "7  \n",
    "8  \n",
    "9  \n",
    "10  \n",
    "11  \n",
    "12  \n",
    "13  \n",
    "14  \n",
    "15  \n",
    "16  \n",
    "\n",
    "\n",
    "|"
   ]
  },
  {
   "cell_type": "code",
   "execution_count": 12,
   "metadata": {
    "jp-MarkdownHeadingCollapsed": true,
    "tags": []
   },
   "outputs": [
    {
     "data": {
      "image/png": "[encoded data removed]",
      "text/plain": [
       "<Figure size 432x288 with 1 Axes>"
      ]
     },
     "metadata": {
      "needs_background": "light"
     },
     "output_type": "display_data"
    }
   ],
   "source": [
    "# 样本的真实类别可视化  \n",
    "import matplotlib.pyplot as plt  \n",
    "plt.rcParams['font.family'] = 'SimHei'  \n",
    "\n",
    "# 取出两种鸢尾花的特征  \n",
    "c1 = x[y==1]  \n",
    "c2 = x[y==2]  \n",
    "\n",
    "# 绘制样本分布  \n",
    "plt.scatter(x=c1[:, 0], y=c1[:, 1], c='g', label='类别1')  \n",
    "plt.scatter(x=c2[:, 0], y=c2[:, 1], c='r', label='类别2')  \n",
    "plt.xlabel('花瓣长度')  \n",
    "plt.ylabel('花瓣宽度')  \n",
    "plt.title('鸢尾花样本分布')  \n",
    "plt.legend()  \n",
    "plt.show()  "
   ]
  },
  {
   "cell_type": "markdown",
   "metadata": {},
   "source": [
    "---|---  \n",
    "\n",
    "![](/images/mathematical-statistics/output_2_0.png)\n",
    "\n",
    "\n",
    "\n",
    "1  \n",
    "2  \n",
    "3  \n",
    "4  \n",
    "5  \n",
    "6  \n",
    "7  \n",
    "8  \n",
    "9  \n",
    "\n",
    "\n",
    "|"
   ]
  },
  {
   "cell_type": "code",
   "execution_count": 13,
   "metadata": {
    "jp-MarkdownHeadingCollapsed": true,
    "tags": []
   },
   "outputs": [
    {
     "data": {
      "image/png": "[encoded data removed]",
      "text/plain": [
       "<Figure size 432x158.4 with 1 Axes>"
      ]
     },
     "metadata": {
      "needs_background": "light"
     },
     "output_type": "display_data"
    }
   ],
   "source": [
    "# 将预测类别和真实类别可视化对比  \n",
    "plt.figure(figsize=(6, 2.2))  \n",
    "plt.plot(y_test, marker='o', ls='', ms=10, c='r', label='真实类别')  \n",
    "plt.plot(y_hat, marker='x', ls='', ms=10, c='g', label='预测类别')  \n",
    "plt.xlabel('样本序号')  \n",
    "plt.ylabel('类别')  \n",
    "plt.title('预测结果')  \n",
    "plt.legend()  \n",
    "plt.show()  "
   ]
  },
  {
   "cell_type": "markdown",
   "metadata": {},
   "source": [
    "---|---  \n",
    "\n",
    "![](/images/mathematical-statistics/output_3_0.png)\n",
    "\n",
    "\n",
    "\n",
    "1  \n",
    "2  \n",
    "3  \n",
    "4  \n",
    "5  \n",
    "6  \n",
    "7  \n",
    "8  \n",
    "9  \n",
    "10  \n",
    "11  \n",
    "12  \n",
    "13  \n",
    "14  \n",
    "15  \n",
    "16  \n",
    "17  \n",
    "18  \n",
    "19  \n",
    "20  \n",
    "21  \n",
    "22  \n",
    "23  \n",
    "24  \n",
    "25  \n",
    "\n",
    "\n",
    "|"
   ]
  },
  {
   "cell_type": "code",
   "execution_count": 14,
   "metadata": {},
   "outputs": [
    {
     "name": "stdout",
     "output_type": "stream",
     "text": [
      "概率:\n",
      "[[0.46933862 0.53066138]\n",
      " [0.98282882 0.01717118]\n",
      " [0.72589695 0.27410305]\n",
      " [0.91245661 0.08754339]\n",
      " [0.80288412 0.19711588]]\n"
     ]
    },
    {
     "data": {
      "image/png": "[encoded data removed]",
      "text/plain": [
       "<Figure size 576x144 with 1 Axes>"
      ]
     },
     "metadata": {
      "needs_background": "light"
     },
     "output_type": "display_data"
    }
   ],
   "source": [
    "# 因预测样本所属类别时, 通过比较概率得到结果,   \n",
    "# 我们可将结果对应的概率可视化  \n",
    "import numpy as np  \n",
    "\n",
    "# 获取预测的概率值  \n",
    "probability = lr.predict_proba(x_test)  \n",
    "print('概率:', probability[:5], sep='\\n')  \n",
    "\n",
    "index = np.arange(len(x_test))  \n",
    "pro_0 = probability[:, 0]  \n",
    "pro_1 = probability[:, 1]  \n",
    "\n",
    "# 设置预测结果标签, 对和错  \n",
    "tick_label = np.where(y_test==y_hat, '对', '错')  \n",
    "\n",
    "# 绘制堆叠图  \n",
    "plt.figure(figsize=(8, 2))  \n",
    "plt.bar(index, height=pro_0, color='g', label='类别1的概率')  \n",
    "plt.bar(index, height=pro_1, color='r', bottom=pro_0,  \n",
    "        label='类别2的概率', tick_label=tick_label)  \n",
    "plt.xlabel('预测结果')  \n",
    "plt.ylabel('各类别的概率')  \n",
    "plt.title('分类概率')  \n",
    "plt.legend()  \n",
    "plt.show() "
   ]
  },
  {
   "cell_type": "code",
   "execution_count": 15,
   "metadata": {},
   "outputs": [
    {
     "data": {
      "image/png": "[encoded data removed]",
      "text/plain": [
       "<Figure size 432x288 with 1 Axes>"
      ]
     },
     "metadata": {
      "needs_background": "light"
     },
     "output_type": "display_data"
    }
   ],
   "source": [
    "# 绘制决策边界  \n",
    "# 决策边界: 不同类别的分界线  \n",
    "from matplotlib.colors import ListedColormap  \n",
    "\n",
    "# 定义绘制函数  \n",
    "def plot_decision_boundary(model, x, y):  \n",
    "    color = ['r', 'g', 'b']  \n",
    "    marker = ['o', 'v', 'x']  \n",
    "    class_label = np.unique(y)  \n",
    "    cmap = ListedColormap(color[:len(class_label)])  \n",
    "    x1_min, x2_min = np.min(x, axis=0)  \n",
    "    x1_max, x2_max = np.max(x, axis=0)  \n",
    "    x1 = np.arange(x1_min - 1, x1_max + 1, 0.02)  \n",
    "    x2 = np.arange(x2_min - 1, x2_max + 1, 0.02)  \n",
    "    x1, x2 = np.meshgrid(x1, x2)  \n",
    "    z = model.predict(np.array([x1.ravel(), x2.ravel()]).T).reshape(x1.shape)  \n",
    "\n",
    "    plt.contourf(x1, x2, z, cmap=cmap, alpha=0.5)  \n",
    "    for i, class_ in enumerate(class_label):  \n",
    "        plt.scatter(x=x[y==class_, 0], y=x[y==class_, 1],  \n",
    "                c=cmap.colors[i], label=class_, marker=marker[i])  \n",
    "    plt.legend()  \n",
    "    plt.show()  \n",
    "\n",
    "# 绘制模型在训练集上的决策边界  \n",
    "plot_decision_boundary(lr, x_train, y_train)  "
   ]
  },
  {
   "cell_type": "markdown",
   "metadata": {},
   "source": [
    "**拓展** :  \n",
    "逻辑回归实现多分类"
   ]
  },
  {
   "cell_type": "code",
   "execution_count": 16,
   "metadata": {},
   "outputs": [
    {
     "data": {
      "image/png": "[encoded data removed]",
      "text/plain": [
       "<Figure size 432x288 with 1 Axes>"
      ]
     },
     "metadata": {
      "needs_background": "light"
     },
     "output_type": "display_data"
    }
   ],
   "source": [
    "iris = load_iris()  \n",
    "x, y = iris.data, iris.target  \n",
    "x = x[:, 2:]  \n",
    "x_train, x_test, y_train, y_test = train_test_split(x, y,   \n",
    "        test_size=0.25, random_state=2)  \n",
    "lr = LogisticRegression()  \n",
    "lr.fit(x_train, y_train)  \n",
    "\n",
    "# 测试分类  \n",
    "y_hat = lr.predict(x_test)  \n",
    "\n",
    "# 可视化结果  \n",
    "plt.rcParams['axes.unicode_minus']=False  \n",
    "plot_decision_boundary(lr, x_test, y_test)  "
   ]
  }
 ],
 "metadata": {
  "kernelspec": {
   "display_name": "Python 3 (ipykernel)",
   "language": "python",
   "name": "python3"
  },
  "language_info": {
   "codemirror_mode": {
    "name": "ipython",
    "version": 3
   },
   "file_extension": ".py",
   "mimetype": "text/x-python",
   "name": "python",
   "nbconvert_exporter": "python",
   "pygments_lexer": "ipython3",
   "version": "3.9.7"
  }
 },
 "nbformat": 4,
 "nbformat_minor": 4
}
