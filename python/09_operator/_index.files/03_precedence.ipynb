{
 "cells": [
  {
   "cell_type": "markdown",
   "metadata": {},
   "source": [
    "## 操作符优先级"
   ]
  },
  {
   "cell_type": "markdown",
   "metadata": {},
   "source": [
    "Python 表达式语句中操作符的优先顺序从最低优先级（最后绑定）到最高优先级（最先绑定）如下：\n",
    "\n",
    "- `:=` 赋值表达式\n",
    "- `lambda` lambda 表达式\n",
    "- `if -- else` 条件表达式\n",
    "- `or` 布尔逻辑或 OR\n",
    "- `and` 布尔逻辑与 AND\n",
    "- `not x` 布尔逻辑非 NOT\n",
    "- `in`, `not in`, `is`, `is not`, `<`, `<=`, `>`, `>=`, `!=`, `==` 比较运算\n",
    "- `|` 按位或 OR\n",
    "- `^` 按位异或 XOR\n",
    "- `&` 按位与 AND\n",
    "- `<<`, `>>` 移位\n",
    "- `+`, `-` 加和减\n",
    "- `*`, `/`, `//`, `%` 乘，矩阵乘，除，整除，取余\n",
    "- `+x`, `-x`, `~x` 正，负，按位非 NOT\n",
    "- `**` 乘方（右边的先绑定）\n",
    "- `await x`  await 表达式\n",
    "- `x[index]`, `x[index:index]`, `x(arguments...)`, `x.attribute`  抽取，切片，调用，属性引用\n",
    "- `(expressions...)`, `[expressions...]`, `{key: value...}`, `{expressions...}` 绑定或加圆括号的表达式，列表显示，字典显示，集合显示\n",
    "\n",
    "一个表达式语句中可以有多个上述操作符，最终返回一个值（包括返回值为 None 的函数调用）。\n",
    "\n",
    "而赋值语句中的赋值操作符 `=`，`+=`，`-=`，`*=`，`/=`，`//=`，`%=`，`&=`，`|=`，`^=`，`>>=`，`<<=`，`**=`，在操作符中优先级最低，它右边表达式的值计算完之后，才最后绑定到左边的名称。\n",
    "\n",
    "举例如下："
   ]
  },
  {
   "cell_type": "code",
   "execution_count": 2,
   "metadata": {},
   "outputs": [
    {
     "data": {
      "text/plain": [
       "True"
      ]
     },
     "execution_count": 2,
     "metadata": {},
     "output_type": "execute_result"
    }
   ],
   "source": [
    "value = int('2')**(-1) == 2/(3+1)\n",
    "value"
   ]
  },
  {
   "cell_type": "code",
   "execution_count": 1,
   "metadata": {},
   "outputs": [
    {
     "data": {
      "text/plain": [
       "True"
      ]
     },
     "execution_count": 1,
     "metadata": {},
     "output_type": "execute_result"
    }
   ],
   "source": [
    "int('2')**(-1) == 2/(3+1)"
   ]
  },
  {
   "cell_type": "code",
   "execution_count": 3,
   "metadata": {},
   "outputs": [
    {
     "data": {
      "text/plain": [
       "True"
      ]
     },
     "execution_count": 3,
     "metadata": {},
     "output_type": "execute_result"
    }
   ],
   "source": [
    "[].append(1) is None and not 1 - 1"
   ]
  },
  {
   "cell_type": "code",
   "execution_count": 4,
   "metadata": {},
   "outputs": [
    {
     "data": {
      "text/plain": [
       "2"
      ]
     },
     "execution_count": 4,
     "metadata": {},
     "output_type": "execute_result"
    }
   ],
   "source": [
    "value = 1 if 'a' in 'a b c'.split()[1:3] else 2\n",
    "value"
   ]
  },
  {
   "cell_type": "code",
   "execution_count": 5,
   "metadata": {},
   "outputs": [
    {
     "data": {
      "text/plain": [
       "32"
      ]
     },
     "execution_count": 5,
     "metadata": {},
     "output_type": "execute_result"
    }
   ],
   "source": [
    "value **= 3 + 2 * 1\n",
    "value"
   ]
  },
  {
   "cell_type": "markdown",
   "metadata": {},
   "source": [
    "操作符 `=` 可以用来连续赋值："
   ]
  },
  {
   "cell_type": "code",
   "execution_count": 6,
   "metadata": {},
   "outputs": [
    {
     "data": {
      "text/plain": [
       "(1, 1, 1)"
      ]
     },
     "execution_count": 6,
     "metadata": {},
     "output_type": "execute_result"
    }
   ],
   "source": [
    "a = b = c = 1\n",
    "a,b,c"
   ]
  }
 ],
 "metadata": {
  "kernelspec": {
   "display_name": "Python 3",
   "language": "python",
   "name": "python3"
  },
  "language_info": {
   "codemirror_mode": {
    "name": "ipython",
    "version": 3
   },
   "file_extension": ".py",
   "mimetype": "text/x-python",
   "name": "python",
   "nbconvert_exporter": "python",
   "pygments_lexer": "ipython3",
   "version": "3.8.3"
  }
 },
 "nbformat": 4,
 "nbformat_minor": 4
}