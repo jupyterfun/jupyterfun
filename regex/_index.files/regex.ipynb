{
 "cells": [
  {
   "cell_type": "markdown",
   "metadata": {},
   "source": [
    "#  通俗易懂正则表达式\n",
    "\n",
    "> 正则表达式, 也叫规则表达式, 是强大的文本字符串处理工具, 通常用来验证, 查找, 筛选, 提取, 替换那些符合某个规则的文本字符串，是实现文本高效处理的神器\n",
    "\n",
    "## 1, 匹配规则\n",
    "\n",
    "正则表达式的核心就是设计一个规则, 按照这个规则”按图索骥”, 去寻找符合这个规则的字符串, 并将它按需处理\n",
    "\n",
    "先以一个最简单的例子进行探索:\n",
    "\n",
    "`re`: 正则表达式模块  \n",
    "`findall`: 模块的一个方法, 传入 正则表达式 和 要去匹配字符串 将匹配结果以列表形式返回, 没有匹配结果返回空列表  \n",
    "`\\d`: 定义的规则, 表示匹配任意一个 0~9 的数字  \n",
    "`198\\d年`: 匹配符合 `198某年` 的字符串\n",
    "\n",
    "然后按照规则去匹配字符串: `'1988年 2000年 2020年 1980年'`"
   ]
  },
  {
   "cell_type": "code",
   "execution_count": 1,
   "metadata": {},
   "outputs": [
    {
     "data": {
      "text/plain": [
       "['1988年', '1980年']"
      ]
     },
     "execution_count": 1,
     "metadata": {},
     "output_type": "execute_result"
    }
   ],
   "source": [
    "# 导入模块 re  \n",
    "import re  \n",
    "\n",
    "# 按规则 r'198\\d年' 匹配, r 的作用在 python 基础部分已介绍  \n",
    "re.findall(r'198\\d年', '1988年 2000年 2020年 1980年')  "
   ]
  },
  {
   "cell_type": "markdown",
   "metadata": {},
   "source": [
    "`\\d` 是其中一个规则定义符, 可以和其他字符组合成正则表达式, 它自身也是一个正则表达式\n",
    "\n",
    "`d` 则是字母 d 本身，像 `\\d` 这样的特殊规则定义符有许多，如 `.`，`*`，`+`，`\\s`，`()`，`[]` 等等\n",
    "\n",
    "任意一个非特殊字符都可以作为匹配它自身的正则表达式\n",
    "\n",
    "如果要匹配规则定义符，例如如要匹配 `\\d`, 需要用 `\\` 进行转义，也就是要用 `\\\\d` 来匹配 `\\d`（其实是 `\\\\` 来匹配 `\\`，`d` 来匹配 `d`）"
   ]
  },
  {
   "cell_type": "code",
   "execution_count": 2,
   "metadata": {},
   "outputs": [
    {
     "data": {
      "text/plain": [
       "['\\\\d.+[a]']"
      ]
     },
     "execution_count": 2,
     "metadata": {},
     "output_type": "execute_result"
    }
   ],
   "source": [
    "re.findall(r'\\\\d.+\\[a]', r'a\\d.+[a]')  "
   ]
  },
  {
   "cell_type": "markdown",
   "metadata": {},
   "source": [
    "## 2, 常用规则定义符\n",
    "\n",
    "### 2.01, 定义类别匹配\n",
    "\n",
    "`\\w` 匹配任意一个可以构成词语的 Unicode 字符, 包括数字及下划线, `\\W` 则相反"
   ]
  },
  {
   "cell_type": "code",
   "execution_count": 5,
   "metadata": {},
   "outputs": [
    {
     "data": {
      "text/plain": [
       "['my1name', 'my_name', 'my我name']"
      ]
     },
     "execution_count": 5,
     "metadata": {},
     "output_type": "execute_result"
    }
   ],
   "source": [
    "a = r'my\\wname'  \n",
    "b = r'my\\Wname'  \n",
    "c = 'my1name, my_name, my.name, my我name'  \n",
    "re.findall(a, c)"
   ]
  },
  {
   "cell_type": "code",
   "execution_count": 6,
   "metadata": {},
   "outputs": [
    {
     "data": {
      "text/plain": [
       "['my.name']"
      ]
     },
     "execution_count": 6,
     "metadata": {},
     "output_type": "execute_result"
    }
   ],
   "source": [
    "re.findall(b, c)"
   ]
  },
  {
   "cell_type": "markdown",
   "metadata": {},
   "source": [
    "`\\d` 匹配任意一个 十进制 数字, `\\D` 匹配任意一个非数字"
   ]
  },
  {
   "cell_type": "code",
   "execution_count": 10,
   "metadata": {},
   "outputs": [
    {
     "data": {
      "text/plain": [
       "['010-o123', '01０-P123']"
      ]
     },
     "execution_count": 10,
     "metadata": {},
     "output_type": "execute_result"
    }
   ],
   "source": [
    "a = r'01\\d-\\D123'  \n",
    "b = '010-0123, 010-o123, 01０-P123'  \n",
    "re.findall(a, b)  "
   ]
  },
  {
   "cell_type": "markdown",
   "metadata": {},
   "source": [
    "`\\s` 匹配任何Unicode空白字符（包括 `[ \\t\\n\\r\\f\\v]`，还有很多其他字符，比如不同语言排版规则约定的不换行空格）, `\\S` 则相反"
   ]
  },
  {
   "cell_type": "code",
   "execution_count": 11,
   "metadata": {},
   "outputs": [
    {
     "data": {
      "text/plain": [
       "['a bcc']"
      ]
     },
     "execution_count": 11,
     "metadata": {},
     "output_type": "execute_result"
    }
   ],
   "source": [
    "a = r'a\\sb\\Sc'  \n",
    "b = 'a b c, a bcc, a  bcc'  \n",
    "re.findall(a, b)  "
   ]
  },
  {
   "cell_type": "markdown",
   "metadata": {},
   "source": [
    "`.` 匹配除换行符 `\\n` 之外的任意一个字符"
   ]
  },
  {
   "cell_type": "code",
   "execution_count": 15,
   "metadata": {},
   "outputs": [
    {
     "data": {
      "text/plain": [
       "['a-b', 'a b']"
      ]
     },
     "execution_count": 15,
     "metadata": {},
     "output_type": "execute_result"
    }
   ],
   "source": [
    "a = r'a.b'  \n",
    "b = '''a  \n",
    "b, a-b, a b, a\\nb'''  \n",
    "re.findall(a, b)  "
   ]
  },
  {
   "cell_type": "markdown",
   "metadata": {},
   "source": [
    "`\\b` 匹配 `\\w` 和 `\\W` 之间（或 `\\w` 开头和结尾的边界）的空字符串, `\\B` 与 `\\b` 相反，匹配非 `\\w` 和 `\\W` 之间的空字符串（或 `\\W` 开头和结尾的边界）"
   ]
  },
  {
   "cell_type": "code",
   "execution_count": 53,
   "metadata": {},
   "outputs": [
    {
     "data": {
      "text/plain": [
       "['a', '。', 'd', '，']"
      ]
     },
     "execution_count": 53,
     "metadata": {},
     "output_type": "execute_result"
    }
   ],
   "source": [
    "re.findall(r'\\b.', 'ab啊_c。d，\\n')"
   ]
  },
  {
   "cell_type": "code",
   "execution_count": 54,
   "metadata": {},
   "outputs": [
    {
     "data": {
      "text/plain": [
       "['a', 'b', '啊', '_', '，']"
      ]
     },
     "execution_count": 54,
     "metadata": {},
     "output_type": "execute_result"
    }
   ],
   "source": [
    "re.findall(r'.\\B', 'ab啊_c。d，\\n')"
   ]
  },
  {
   "cell_type": "markdown",
   "metadata": {},
   "source": [
    "### 2.02, 定义范围匹配\n",
    "\n",
    "用括号 `[]` 将字符(表达式)包围起来, 表示在括号内指定的范围内匹配任意一个"
   ]
  },
  {
   "cell_type": "code",
   "execution_count": 16,
   "metadata": {},
   "outputs": [
    {
     "data": {
      "text/plain": [
       "['b']"
      ]
     },
     "execution_count": 16,
     "metadata": {},
     "output_type": "execute_result"
    }
   ],
   "source": [
    "re.findall('[abc]', 'bill')  "
   ]
  },
  {
   "cell_type": "markdown",
   "metadata": {},
   "source": [
    "在 `[]` 内, 以 `^` 开头, 表示排除括号内的字符(表达式)范围匹配"
   ]
  },
  {
   "cell_type": "code",
   "execution_count": 17,
   "metadata": {},
   "outputs": [
    {
     "data": {
      "text/plain": [
       "['d']"
      ]
     },
     "execution_count": 17,
     "metadata": {},
     "output_type": "execute_result"
    }
   ],
   "source": [
    "re.findall('[^abc]', 'abcd')  "
   ]
  },
  {
   "cell_type": "markdown",
   "metadata": {},
   "source": [
    "在 `[]` 内, 数字或字母之间用 `-` 连接, 表示在两者(包含)之间的范围内匹配"
   ]
  },
  {
   "cell_type": "code",
   "execution_count": 19,
   "metadata": {},
   "outputs": [
    {
     "data": {
      "text/plain": [
       "['a', '3', '5', 'A', '-']"
      ]
     },
     "execution_count": 19,
     "metadata": {},
     "output_type": "execute_result"
    }
   ],
   "source": [
    "re.findall('[a-d0-5A\\-D]', 'af357AB-')  "
   ]
  },
  {
   "cell_type": "markdown",
   "metadata": {},
   "source": [
    "一些特殊字符在 `[]` 内失去特殊含义"
   ]
  },
  {
   "cell_type": "code",
   "execution_count": 22,
   "metadata": {},
   "outputs": [
    {
     "data": {
      "text/plain": [
       "['+', '(', '*', ')', 'a', ']']"
      ]
     },
     "execution_count": 22,
     "metadata": {},
     "output_type": "execute_result"
    }
   ],
   "source": [
    "re.findall('[(+*)\\]\\w]', '+(*)a].?')"
   ]
  },
  {
   "cell_type": "markdown",
   "metadata": {},
   "source": [
    "### 2.03, 定义边界匹配\n",
    "\n",
    "`^` 或 `\\A`, 表示必须以接下来的字符(表达式)开头才能被匹配, 换行开头也不能匹配"
   ]
  },
  {
   "cell_type": "code",
   "execution_count": 24,
   "metadata": {},
   "outputs": [
    {
     "data": {
      "text/plain": [
       "[]"
      ]
     },
     "execution_count": 24,
     "metadata": {},
     "output_type": "execute_result"
    }
   ],
   "source": [
    "a = '^b\\d[bc]'  \n",
    "b = '''a2b  \n",
    "b2b'''  \n",
    "c = 'b2bcd'  \n",
    "re.findall(a, b)"
   ]
  },
  {
   "cell_type": "code",
   "execution_count": 25,
   "metadata": {},
   "outputs": [
    {
     "data": {
      "text/plain": [
       "['b2b']"
      ]
     },
     "execution_count": 25,
     "metadata": {},
     "output_type": "execute_result"
    }
   ],
   "source": [
    "re.findall(a, c)  "
   ]
  },
  {
   "cell_type": "code",
   "execution_count": 26,
   "metadata": {},
   "outputs": [
    {
     "data": {
      "text/plain": [
       "[]"
      ]
     },
     "execution_count": 26,
     "metadata": {},
     "output_type": "execute_result"
    }
   ],
   "source": [
    "a = '\\Ab\\d[bc]'  \n",
    "b = '''a2b  \n",
    "b2b'''  \n",
    "c = 'b2bcd'  \n",
    "re.findall(a, b)"
   ]
  },
  {
   "cell_type": "code",
   "execution_count": 27,
   "metadata": {},
   "outputs": [
    {
     "data": {
      "text/plain": [
       "['b2b']"
      ]
     },
     "execution_count": 27,
     "metadata": {},
     "output_type": "execute_result"
    }
   ],
   "source": [
    "re.findall(a, c)  "
   ]
  },
  {
   "cell_type": "markdown",
   "metadata": {},
   "source": [
    "`$` 或 `\\Z`表示必须以其前面的字符(表达式)结尾才能被匹配, 换行之前的结束也不能匹配"
   ]
  },
  {
   "cell_type": "code",
   "execution_count": 28,
   "metadata": {},
   "outputs": [
    {
     "data": {
      "text/plain": [
       "['ac']"
      ]
     },
     "execution_count": 28,
     "metadata": {},
     "output_type": "execute_result"
    }
   ],
   "source": [
    "re.findall('a\\w$', '''ab\n",
    "ac''')"
   ]
  },
  {
   "cell_type": "code",
   "execution_count": 29,
   "metadata": {},
   "outputs": [
    {
     "data": {
      "text/plain": [
       "['ad']"
      ]
     },
     "execution_count": 29,
     "metadata": {},
     "output_type": "execute_result"
    }
   ],
   "source": [
    "re.findall('a\\w\\Z', 'ab\\nad')  "
   ]
  },
  {
   "cell_type": "markdown",
   "metadata": {},
   "source": [
    "### 2.04, 定义数量匹配\n",
    "\n",
    "`+` 其前面的字符(表达式)至少有一个的都能匹配"
   ]
  },
  {
   "cell_type": "code",
   "execution_count": 55,
   "metadata": {},
   "outputs": [
    {
     "data": {
      "text/plain": [
       "['10', '100', '100']"
      ]
     },
     "execution_count": 55,
     "metadata": {},
     "output_type": "execute_result"
    }
   ],
   "source": [
    "re.findall(r'10+', '110, 100, 1001')  "
   ]
  },
  {
   "cell_type": "markdown",
   "metadata": {},
   "source": [
    "`?` 其前面的字符(表达式)最多有一个的才能匹配"
   ]
  },
  {
   "cell_type": "code",
   "execution_count": 56,
   "metadata": {},
   "outputs": [
    {
     "data": {
      "text/plain": [
       "['1', '10', '10']"
      ]
     },
     "execution_count": 56,
     "metadata": {},
     "output_type": "execute_result"
    }
   ],
   "source": [
    "re.findall(r'10?', '1, 10, 100')  "
   ]
  },
  {
   "cell_type": "markdown",
   "metadata": {},
   "source": [
    "`*` 其前面的字符(表达式)没有或有多个都可以匹配"
   ]
  },
  {
   "cell_type": "code",
   "execution_count": 57,
   "metadata": {},
   "outputs": [
    {
     "data": {
      "text/plain": [
       "['1', '10', '100', '1']"
      ]
     },
     "execution_count": 57,
     "metadata": {},
     "output_type": "execute_result"
    }
   ],
   "source": [
    "re.findall(r'10*', '1, 10, 1001')  "
   ]
  },
  {
   "cell_type": "markdown",
   "metadata": {},
   "source": [
    "`{n}` 其前面的字符(表达式)有 n 个才能匹配"
   ]
  },
  {
   "cell_type": "code",
   "execution_count": 58,
   "metadata": {},
   "outputs": [
    {
     "data": {
      "text/plain": [
       "['1234']"
      ]
     },
     "execution_count": 58,
     "metadata": {},
     "output_type": "execute_result"
    }
   ],
   "source": [
    "re.findall(r'1\\d{3}', '12, 123, 1a23, 1234')  "
   ]
  },
  {
   "cell_type": "markdown",
   "metadata": {},
   "source": [
    "`{n,}` 其前面的字符(表达式)有至少 n 个才能匹配, `{m,n}` 则表示有 m~n 个才能匹配, m 和 n 之间只有 `,` 号而不能有空格"
   ]
  },
  {
   "cell_type": "code",
   "execution_count": 59,
   "metadata": {},
   "outputs": [
    {
     "data": {
      "text/plain": [
       "['123', '1234', '12345']"
      ]
     },
     "execution_count": 59,
     "metadata": {},
     "output_type": "execute_result"
    }
   ],
   "source": [
    "re.findall(r'1\\d{2,}', '12, 123, 1234, 12345')  "
   ]
  },
  {
   "cell_type": "code",
   "execution_count": 60,
   "metadata": {},
   "outputs": [
    {
     "data": {
      "text/plain": [
       "['123', '1234', '1234']"
      ]
     },
     "execution_count": 60,
     "metadata": {},
     "output_type": "execute_result"
    }
   ],
   "source": [
    "re.findall(r'1\\d{2,3}', '12, 123, 1234, 12345')  "
   ]
  },
  {
   "cell_type": "markdown",
   "metadata": {},
   "source": [
    "### 2.05, `或` 匹配符 `|`\n",
    "\n",
    "符号 `|` 两边的内容, 有一边匹配 或 两边都匹配都可以, 但当 `|` 在括号 `[]` 中则无此作用, 只代表它自身"
   ]
  },
  {
   "cell_type": "code",
   "execution_count": 61,
   "metadata": {},
   "outputs": [
    {
     "data": {
      "text/plain": [
       "['aa', 'bb', 'aa', 'bb']"
      ]
     },
     "execution_count": 61,
     "metadata": {},
     "output_type": "execute_result"
    }
   ],
   "source": [
    "re.findall(r'aa|bb', 'aacbbcaabbab')  "
   ]
  },
  {
   "cell_type": "code",
   "execution_count": 62,
   "metadata": {},
   "outputs": [
    {
     "data": {
      "text/plain": [
       "['a|b']"
      ]
     },
     "execution_count": 62,
     "metadata": {},
     "output_type": "execute_result"
    }
   ],
   "source": [
    "re.findall(r'a[|]b', 'ab, a|b')  "
   ]
  },
  {
   "cell_type": "markdown",
   "metadata": {},
   "source": [
    "### 2.06, 定义组合匹配\n",
    "\n",
    "用 `()` 将多个字符组合成一个整体来匹配, 不管 `()` 外是否有数量匹配符, 都只返回 `()` 内的内容, 如果表达式内有多个 `()` 封装的内容, 匹配结果以元组形式返回"
   ]
  },
  {
   "cell_type": "code",
   "execution_count": 63,
   "metadata": {},
   "outputs": [
    {
     "data": {
      "text/plain": [
       "['ab', 'ab']"
      ]
     },
     "execution_count": 63,
     "metadata": {},
     "output_type": "execute_result"
    }
   ],
   "source": [
    "# 匹配的是 ab 和 abab 但只返回括号内的 ab  \n",
    "re.findall(r'(ab)+', 'ab11abab')   "
   ]
  },
  {
   "cell_type": "code",
   "execution_count": 65,
   "metadata": {},
   "outputs": [
    {
     "data": {
      "text/plain": [
       "['ab']"
      ]
     },
     "execution_count": 65,
     "metadata": {},
     "output_type": "execute_result"
    }
   ],
   "source": [
    "re.findall(r'^(ab)+', 'ab11abab') # 必须 ab 开头 "
   ]
  },
  {
   "cell_type": "code",
   "execution_count": 67,
   "metadata": {},
   "outputs": [
    {
     "data": {
      "text/plain": [
       "[('ab', 'ab')]"
      ]
     },
     "execution_count": 67,
     "metadata": {},
     "output_type": "execute_result"
    }
   ],
   "source": [
    "# 匹配的是后面的 abab 返回元组  \n",
    "re.findall(r'(ab)(ab)', 'ab11abab')   "
   ]
  },
  {
   "cell_type": "markdown",
   "metadata": {},
   "source": [
    "将贪婪匹配转为非贪婪匹配"
   ]
  },
  {
   "cell_type": "code",
   "execution_count": 68,
   "metadata": {},
   "outputs": [
    {
     "data": {
      "text/plain": [
       "[('123000', '')]"
      ]
     },
     "execution_count": 68,
     "metadata": {},
     "output_type": "execute_result"
    }
   ],
   "source": [
    "# 贪婪匹配 \\d+ 使得无法将 000 取出  \n",
    "re.findall(r'(\\d+)(0*)$', '123000')  "
   ]
  },
  {
   "cell_type": "code",
   "execution_count": 69,
   "metadata": {},
   "outputs": [
    {
     "data": {
      "text/plain": [
       "[('123', '000')]"
      ]
     },
     "execution_count": 69,
     "metadata": {},
     "output_type": "execute_result"
    }
   ],
   "source": [
    "# + 后面加个 ? 号  \n",
    "re.findall(r'(\\d+?)(0*)$', '123000')  "
   ]
  },
  {
   "cell_type": "code",
   "execution_count": 70,
   "metadata": {},
   "outputs": [
    {
     "data": {
      "text/plain": [
       "['a', 'b', '(', 'a', 'b', ')']"
      ]
     },
     "execution_count": 70,
     "metadata": {},
     "output_type": "execute_result"
    }
   ],
   "source": [
    "re.findall(r'[(ab)]', 'ab, (ab)')  "
   ]
  },
  {
   "cell_type": "markdown",
   "metadata": {},
   "source": [
    "如果 `()` 内以 `?:` 开头, 只有一组时，返回匹配的字符串，多组则 `?:` 开头的不捕获不返回"
   ]
  },
  {
   "cell_type": "code",
   "execution_count": 76,
   "metadata": {},
   "outputs": [
    {
     "data": {
      "text/plain": [
       "['ab', 'abab']"
      ]
     },
     "execution_count": 76,
     "metadata": {},
     "output_type": "execute_result"
    }
   ],
   "source": [
    "re.findall(r'(?:ab)+', 'ab11abab')   "
   ]
  },
  {
   "cell_type": "code",
   "execution_count": 82,
   "metadata": {},
   "outputs": [
    {
     "data": {
      "text/plain": [
       "['ab']"
      ]
     },
     "execution_count": 82,
     "metadata": {},
     "output_type": "execute_result"
    }
   ],
   "source": [
    "# 匹配的是后面的 abab, 但只返回前一个 () 内的内容  \n",
    "re.findall(r'(ab)(?:ab)+', 'ab11abab')   "
   ]
  },
  {
   "cell_type": "markdown",
   "metadata": {},
   "source": [
    "如果 `()` 内以 `?=` 开头, 则 `()` 内的内容只是用来匹配, 不返回也不消耗匹配的字符, 也就是说, 匹配完了, 后面的字符需要继续匹配"
   ]
  },
  {
   "cell_type": "code",
   "execution_count": 83,
   "metadata": {},
   "outputs": [
    {
     "data": {
      "text/plain": [
       "['abc', 'abc']"
      ]
     },
     "execution_count": 83,
     "metadata": {},
     "output_type": "execute_result"
    }
   ],
   "source": [
    "re.findall(r'a(?=bc)bc', 'ab, abc, abcde')  "
   ]
  },
  {
   "cell_type": "markdown",
   "metadata": {},
   "source": [
    "如果 `()` 内以 `?!` 开头, 则 `()` 内的内容只是用来排除, 也就是说, 排除括号内的内容都可以匹配, 不占字符, 匹配完了,\n",
    "后面的字符需要继续匹配"
   ]
  },
  {
   "cell_type": "code",
   "execution_count": 84,
   "metadata": {},
   "outputs": [
    {
     "data": {
      "text/plain": [
       "['acb', 'abde']"
      ]
     },
     "execution_count": 84,
     "metadata": {},
     "output_type": "execute_result"
    }
   ],
   "source": [
    "# a 后面除了 bc 都可以匹配  \n",
    "re.findall(r'a(?!bc)\\w+', 'abc, acb, abde')  "
   ]
  },
  {
   "cell_type": "markdown",
   "metadata": {},
   "source": [
    "`\\number` 匹配指定的组合，组合从 1 开始编号"
   ]
  },
  {
   "cell_type": "code",
   "execution_count": 91,
   "metadata": {},
   "outputs": [
    {
     "data": {
      "text/plain": [
       "[('a', '1', 'a'), ('a', '34', 'a')]"
      ]
     },
     "execution_count": 91,
     "metadata": {},
     "output_type": "execute_result"
    }
   ],
   "source": [
    "# \\1 匹配第一个组合 (a)\n",
    "re.findall(r'(a)(\\d+)(\\1)', 'aba1aa34a2')  "
   ]
  },
  {
   "cell_type": "markdown",
   "metadata": {},
   "source": [
    "绝大部分 Python 的标准转义字符也被正则表达式分析器支持:\n",
    "\n",
    "    \\a      \\b      \\f      \\n\n",
    "    \\N      \\r      \\t      \\u\n",
    "    \\U      \\v      \\x      \\\\\n",
    "    \n",
    "（注意 `\\b` 被用于表示词语的边界，它只在 `[]` 内表示退格，比如 `[\\b]`）"
   ]
  },
  {
   "cell_type": "markdown",
   "metadata": {},
   "source": [
    "### 2.07, 匹配规则修正符\n",
    "\n",
    "介绍几个常用的规则修正符\n",
    "\n",
    "`re.I` 大小写不敏感匹配"
   ]
  },
  {
   "cell_type": "code",
   "execution_count": 92,
   "metadata": {},
   "outputs": [
    {
     "data": {
      "text/plain": [
       "['aA', 'aa']"
      ]
     },
     "execution_count": 92,
     "metadata": {},
     "output_type": "execute_result"
    }
   ],
   "source": [
    "re.findall(r'aA','aA, aa', re.I)  "
   ]
  },
  {
   "cell_type": "markdown",
   "metadata": {},
   "source": [
    "`re.S` 使 `.` 匹配任何字符, 包括换行符"
   ]
  },
  {
   "cell_type": "code",
   "execution_count": 97,
   "metadata": {},
   "outputs": [
    {
     "data": {
      "text/plain": [
       "['a\\nb', 'a-b']"
      ]
     },
     "execution_count": 97,
     "metadata": {},
     "output_type": "execute_result"
    }
   ],
   "source": [
    "s = '''a\n",
    "b, a-b'''  \n",
    "re.findall(r'a.b', s, re.S)  "
   ]
  },
  {
   "cell_type": "markdown",
   "metadata": {},
   "source": [
    "`re.M` 使得 `^` 和 `$` 能匹配换行的开始或换行前的结束"
   ]
  },
  {
   "cell_type": "code",
   "execution_count": 100,
   "metadata": {},
   "outputs": [
    {
     "data": {
      "text/plain": [
       "['b2c', 'b2b']"
      ]
     },
     "execution_count": 100,
     "metadata": {},
     "output_type": "execute_result"
    }
   ],
   "source": [
    "a = '^b\\d[bc]'  \n",
    "b = '''b2c\n",
    "b2b'''  \n",
    "re.findall(a, b, re.M)  "
   ]
  },
  {
   "cell_type": "code",
   "execution_count": 101,
   "metadata": {},
   "outputs": [
    {
     "data": {
      "text/plain": [
       "['a2b', 'a2c']"
      ]
     },
     "execution_count": 101,
     "metadata": {},
     "output_type": "execute_result"
    }
   ],
   "source": [
    "a = 'a\\d[bc]$'  \n",
    "b = '''a2b\n",
    "a2c'''  \n",
    "re.findall(a, b, re.M)  "
   ]
  },
  {
   "cell_type": "markdown",
   "metadata": {},
   "source": [
    "## 3, 匹配和处理方法\n",
    "\n",
    "`match` 从字符串起始位置匹配, 匹配到的字符返回为 match 对象, 可以用方法加以获取"
   ]
  },
  {
   "cell_type": "code",
   "execution_count": 102,
   "metadata": {},
   "outputs": [
    {
     "data": {
      "text/plain": [
       "<re.Match object; span=(0, 2), match='ab'>"
      ]
     },
     "execution_count": 102,
     "metadata": {},
     "output_type": "execute_result"
    }
   ],
   "source": [
    "a = re.match(r'ab', 'abc')  \n",
    "b = re.match(r'a(bc)d(ef)g', 'abcdefgh')  \n",
    "c = re.match(r'ab', 'bab')  \n",
    "a"
   ]
  },
  {
   "cell_type": "code",
   "execution_count": 103,
   "metadata": {},
   "outputs": [
    {
     "data": {
      "text/plain": [
       "<re.Match object; span=(0, 7), match='abcdefg'>"
      ]
     },
     "execution_count": 103,
     "metadata": {},
     "output_type": "execute_result"
    }
   ],
   "source": [
    "b"
   ]
  },
  {
   "cell_type": "code",
   "execution_count": 104,
   "metadata": {},
   "outputs": [],
   "source": [
    "c"
   ]
  },
  {
   "cell_type": "code",
   "execution_count": 105,
   "metadata": {},
   "outputs": [
    {
     "data": {
      "text/plain": [
       "('ab', 'abcdefg', 'bc', 'ef')"
      ]
     },
     "execution_count": 105,
     "metadata": {},
     "output_type": "execute_result"
    }
   ],
   "source": [
    "# group() 获取匹配的全部字符,   \n",
    "# group(1) 获取 () 内匹配的第一个, 以此类推  \n",
    "a.group(), b.group(), b.group(1), b.group(2)  "
   ]
  },
  {
   "cell_type": "code",
   "execution_count": 106,
   "metadata": {},
   "outputs": [
    {
     "data": {
      "text/plain": [
       "(0, 0)"
      ]
     },
     "execution_count": 106,
     "metadata": {},
     "output_type": "execute_result"
    }
   ],
   "source": [
    "# start 获取匹配开始的位置  \n",
    "a.start(), b.start()  "
   ]
  },
  {
   "cell_type": "code",
   "execution_count": 107,
   "metadata": {},
   "outputs": [
    {
     "data": {
      "text/plain": [
       "(2, 7)"
      ]
     },
     "execution_count": 107,
     "metadata": {},
     "output_type": "execute_result"
    }
   ],
   "source": [
    "# end 获取匹配结束的位置  \n",
    "a.end(), b.end()  "
   ]
  },
  {
   "cell_type": "code",
   "execution_count": 108,
   "metadata": {},
   "outputs": [
    {
     "data": {
      "text/plain": [
       "((0, 2), (0, 7))"
      ]
     },
     "execution_count": 108,
     "metadata": {},
     "output_type": "execute_result"
    }
   ],
   "source": [
    "# span 获取 (开始, 结束) 元组  \n",
    "a.span(), b.span()  "
   ]
  },
  {
   "cell_type": "markdown",
   "metadata": {},
   "source": [
    "`compile` 编译正则表达式, 返回一个 Pattern 对象(后面简写为p), 然后可以用该对象调用方法"
   ]
  },
  {
   "cell_type": "code",
   "execution_count": 109,
   "metadata": {},
   "outputs": [
    {
     "data": {
      "text/plain": [
       "re.compile(r'\\d+', re.UNICODE)"
      ]
     },
     "execution_count": 109,
     "metadata": {},
     "output_type": "execute_result"
    }
   ],
   "source": [
    "p = re.compile('\\d+')  \n",
    "p  "
   ]
  },
  {
   "cell_type": "code",
   "execution_count": 111,
   "metadata": {},
   "outputs": [
    {
     "data": {
      "text/plain": [
       "<re.Match object; span=(3, 5), match='21'>"
      ]
     },
     "execution_count": 111,
     "metadata": {},
     "output_type": "execute_result"
    }
   ],
   "source": [
    "# 调用上面的 match 方法, 可以指定开始和结束位置  \n",
    "a = p.match('12a21', 3)  \n",
    "a  "
   ]
  },
  {
   "cell_type": "markdown",
   "metadata": {},
   "source": [
    "`re.search` 扫描整个字符串, 第一个匹配的字符串返回为 match 对象  \n",
    "\n",
    "`p.search` 扫描指定范围, 不指定就全部扫描"
   ]
  },
  {
   "cell_type": "code",
   "execution_count": 112,
   "metadata": {},
   "outputs": [
    {
     "data": {
      "text/plain": [
       "<re.Match object; span=(0, 9), match='python3.0'>"
      ]
     },
     "execution_count": 112,
     "metadata": {},
     "output_type": "execute_result"
    }
   ],
   "source": [
    "r = 'python\\d.\\d'  \n",
    "s = 'python3.0, python3.8'  \n",
    "p = re.compile(r)  \n",
    "a = re.search(r, s)  \n",
    "b = p.search(s)  \n",
    "c = p.search(s, 1)  \n",
    "a"
   ]
  },
  {
   "cell_type": "code",
   "execution_count": 113,
   "metadata": {},
   "outputs": [
    {
     "data": {
      "text/plain": [
       "<re.Match object; span=(0, 9), match='python3.0'>"
      ]
     },
     "execution_count": 113,
     "metadata": {},
     "output_type": "execute_result"
    }
   ],
   "source": [
    "b"
   ]
  },
  {
   "cell_type": "code",
   "execution_count": 114,
   "metadata": {},
   "outputs": [
    {
     "data": {
      "text/plain": [
       "<re.Match object; span=(11, 20), match='python3.8'>"
      ]
     },
     "execution_count": 114,
     "metadata": {},
     "output_type": "execute_result"
    }
   ],
   "source": [
    "c"
   ]
  },
  {
   "cell_type": "markdown",
   "metadata": {},
   "source": [
    "`sub` 替换字符串中的匹配项, 可以控制替换次数, 还可传入函数高级替换"
   ]
  },
  {
   "cell_type": "code",
   "execution_count": 115,
   "metadata": {},
   "outputs": [
    {
     "data": {
      "text/plain": [
       "'去掉逗号和句号'"
      ]
     },
     "execution_count": 115,
     "metadata": {},
     "output_type": "execute_result"
    }
   ],
   "source": [
    "r = '[,.]'  \n",
    "s = '去掉,逗号和.句号.'  \n",
    "p = re.compile(r)  \n",
    "re.sub(p, '', s)"
   ]
  },
  {
   "cell_type": "code",
   "execution_count": 119,
   "metadata": {},
   "outputs": [
    {
     "data": {
      "text/plain": [
       "'去掉逗号和.句号.'"
      ]
     },
     "execution_count": 119,
     "metadata": {},
     "output_type": "execute_result"
    }
   ],
   "source": [
    "p.sub('', s, 1)  "
   ]
  },
  {
   "cell_type": "markdown",
   "metadata": {},
   "source": [
    "`findall` 已经介绍过"
   ]
  },
  {
   "cell_type": "code",
   "execution_count": 120,
   "metadata": {},
   "outputs": [
    {
     "data": {
      "text/plain": [
       "[('123', '456', '78')]"
      ]
     },
     "execution_count": 120,
     "metadata": {},
     "output_type": "execute_result"
    }
   ],
   "source": [
    "r = r'\\D+(\\d+)\\D+(\\d+)\\D+(\\d+)*'  \n",
    "s = '分组提取123所有456数字78.'  \n",
    "p = re.compile(r)  \n",
    "re.findall(p, s)"
   ]
  },
  {
   "cell_type": "code",
   "execution_count": 121,
   "metadata": {},
   "outputs": [
    {
     "data": {
      "text/plain": [
       "[('456', '78', '')]"
      ]
     },
     "execution_count": 121,
     "metadata": {},
     "output_type": "execute_result"
    }
   ],
   "source": [
    "p.findall(s, 8)  "
   ]
  },
  {
   "cell_type": "markdown",
   "metadata": {},
   "source": [
    "`finditer` 和 `findall`类似, 只是返回的是一个 match 迭代器"
   ]
  },
  {
   "cell_type": "code",
   "execution_count": 137,
   "metadata": {},
   "outputs": [
    {
     "data": {
      "text/plain": [
       "<callable_iterator at 0x18d4fa31460>"
      ]
     },
     "execution_count": 137,
     "metadata": {},
     "output_type": "execute_result"
    }
   ],
   "source": [
    "import re  \n",
    "\n",
    "r = r'\\D+(\\d+)\\D+(\\d+)\\D+(\\d+)*'  \n",
    "s = '分组提取123所有456数字78.'  \n",
    "p = re.compile(r)  \n",
    "a = re.finditer(p, s)  \n",
    "b = p.finditer(s, 8)  \n",
    "a"
   ]
  },
  {
   "cell_type": "code",
   "execution_count": 138,
   "metadata": {},
   "outputs": [
    {
     "data": {
      "text/plain": [
       "<callable_iterator at 0x18d4fa31430>"
      ]
     },
     "execution_count": 138,
     "metadata": {},
     "output_type": "execute_result"
    }
   ],
   "source": [
    "b"
   ]
  },
  {
   "cell_type": "code",
   "execution_count": 139,
   "metadata": {},
   "outputs": [
    {
     "name": "stdout",
     "output_type": "stream",
     "text": [
      "<re.Match object; span=(0, 16), match='分组提取123所有456数字78'>\n",
      "<re.Match object; span=(8, 17), match='有456数字78.'>\n",
      "('123', '456', '78')\n",
      "('456', '78', None)\n"
     ]
    }
   ],
   "source": [
    "for i, j in zip(a, b):  \n",
    "    print(i)  \n",
    "    print(j)  \n",
    "    print(i.group(1, 2, 3))  \n",
    "    print(j.group(1, 2, 3))  "
   ]
  },
  {
   "cell_type": "markdown",
   "metadata": {},
   "source": [
    "`split` 用匹配到的字符(或字符串), 将整个字符串分割返回列表, 可设置最大拆分数"
   ]
  },
  {
   "cell_type": "code",
   "execution_count": 140,
   "metadata": {},
   "outputs": [
    {
     "data": {
      "text/plain": [
       "['将', '每', '个', '字', '拆', '开']"
      ]
     },
     "execution_count": 140,
     "metadata": {},
     "output_type": "execute_result"
    }
   ],
   "source": [
    "r = '[\\s\\,-]'  \n",
    "s = '将,每 个-字 拆,开'  \n",
    "p = re.compile(r)  \n",
    "re.split(p, s)"
   ]
  },
  {
   "cell_type": "code",
   "execution_count": 141,
   "metadata": {},
   "outputs": [
    {
     "data": {
      "text/plain": [
       "['将', '每', '个-字 拆,开']"
      ]
     },
     "execution_count": 141,
     "metadata": {},
     "output_type": "execute_result"
    }
   ],
   "source": [
    "p.split(s, 2)  "
   ]
  }
 ],
 "metadata": {
  "kernelspec": {
   "display_name": "Python 3 (ipykernel)",
   "language": "python",
   "name": "python3"
  },
  "language_info": {
   "codemirror_mode": {
    "name": "ipython",
    "version": 3
   },
   "file_extension": ".py",
   "mimetype": "text/x-python",
   "name": "python",
   "nbconvert_exporter": "python",
   "pygments_lexer": "ipython3",
   "version": "3.9.7"
  }
 },
 "nbformat": 4,
 "nbformat_minor": 4
}
