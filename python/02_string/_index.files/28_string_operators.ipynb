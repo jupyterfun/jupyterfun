{
 "cells": [
  {
   "cell_type": "markdown",
   "metadata": {},
   "source": [
    "## 字符串操作符"
   ]
  },
  {
   "cell_type": "markdown",
   "metadata": {},
   "source": [
    "### 操作符 `*`\n",
    "\n",
    "操作符 `*` 可以实现将字符串重复 n（整数）遍相连接："
   ]
  },
  {
   "cell_type": "code",
   "execution_count": 1,
   "metadata": {},
   "outputs": [
    {
     "data": {
      "text/plain": [
       "'PythonPythonPython'"
      ]
     },
     "execution_count": 1,
     "metadata": {},
     "output_type": "execute_result"
    }
   ],
   "source": [
    "'Python' * 3"
   ]
  },
  {
   "cell_type": "markdown",
   "metadata": {},
   "source": [
    "n 是小于 1 的整数，则得到空字符串："
   ]
  },
  {
   "cell_type": "code",
   "execution_count": 2,
   "metadata": {},
   "outputs": [
    {
     "data": {
      "text/plain": [
       "''"
      ]
     },
     "execution_count": 2,
     "metadata": {},
     "output_type": "execute_result"
    }
   ],
   "source": [
    "'Python' * -1"
   ]
  },
  {
   "cell_type": "markdown",
   "metadata": {},
   "source": [
    "`*` 操作符可以与 `=` 连用，重复拼接并赋值："
   ]
  },
  {
   "cell_type": "code",
   "execution_count": 3,
   "metadata": {},
   "outputs": [
    {
     "data": {
      "text/plain": [
       "'pypypy'"
      ]
     },
     "execution_count": 3,
     "metadata": {},
     "output_type": "execute_result"
    }
   ],
   "source": [
    "a = 'py'\n",
    "a *= 3\n",
    "a"
   ]
  },
  {
   "cell_type": "markdown",
   "metadata": {},
   "source": [
    "由于字符串是可迭代对象，因此可以使用 `*` 对字符串进行拆包："
   ]
  },
  {
   "cell_type": "code",
   "execution_count": 4,
   "metadata": {},
   "outputs": [
    {
     "data": {
      "text/plain": [
       "('P', 'y', 't', 'h', 'o', 'n')"
      ]
     },
     "execution_count": 4,
     "metadata": {},
     "output_type": "execute_result"
    }
   ],
   "source": [
    "(*'Python',)"
   ]
  },
  {
   "cell_type": "markdown",
   "metadata": {},
   "source": [
    "### 操作符 `%`\n",
    "\n",
    "字符串使用 `%` 操作符，官方文档叫 “printf 风格的字符串格式化”。比较早的格式化方法，官方已不推荐使用，了解它能更好地读懂别人的代码。"
   ]
  },
  {
   "cell_type": "markdown",
   "metadata": {},
   "source": [
    "转换标记符包含两个或更多字符并具有以下组成，且必须遵循如下规定的顺序：\n",
    "1. '%' 字符，用于标记转换符的起始。\n",
    "2. 映射键（可选），由加圆括号的字符序列组成。\n",
    "3. 转换旗标（可选），用于影响某些转换类型的结果。\n",
    "4. 最小字段宽度（可选）。如果指定为 '*' (星号)，则实际宽度会从 values 元组的下一元素中读取，要转换的对象则为最小字段宽度和可选的精度之后的元素。\n",
    "5. 精度（可选），以在 '.' (点号) 之后加精度值的形式给出。如果指定为 '*' (星号)，则实际精度会从 values 元组的下一元素中读取，要转换的对象则为精度之后的元素。\n",
    "6. 长度修饰符（可选）。\n",
    "7. 转换类型。"
   ]
  },
  {
   "cell_type": "code",
   "execution_count": 5,
   "metadata": {},
   "outputs": [
    {
     "data": {
      "text/plain": [
       "\"hi 'python'\""
      ]
     },
     "execution_count": 5,
     "metadata": {},
     "output_type": "execute_result"
    }
   ],
   "source": [
    "'hi %r' % 'python'"
   ]
  },
  {
   "cell_type": "code",
   "execution_count": 6,
   "metadata": {},
   "outputs": [
    {
     "data": {
      "text/plain": [
       "\"hi 'python'\""
      ]
     },
     "execution_count": 6,
     "metadata": {},
     "output_type": "execute_result"
    }
   ],
   "source": [
    "'%s %r' % ('hi','python')"
   ]
  },
  {
   "cell_type": "markdown",
   "metadata": {},
   "source": [
    "转换旗标为：\n",
    "\n",
    "| 标志 | 含义                                                               |\n",
    "| ---- | -------------------------------------------------------------------- |\n",
    "| '#'  | 值的转换将使用“替代形式”。 |\n",
    "| '0'  |  转换将为数字值填充零字符。                             |\n",
    "| '-'  | 转换值将靠左对齐（如果同时给出 '0' 转换，则会覆盖后者）。 |\n",
    "| ' '  | (空格) 符号位转换产生的正数（或空字符串）前将留出一个空格。 |\n",
    "| '+'  | 符号字符 ('+' 或 '-') 将显示于转换结果的开头（会覆盖 ”空格” 旗标）。 |"
   ]
  },
  {
   "cell_type": "code",
   "execution_count": 7,
   "metadata": {},
   "outputs": [
    {
     "data": {
      "text/plain": [
       "'A is 0x12'"
      ]
     },
     "execution_count": 7,
     "metadata": {},
     "output_type": "execute_result"
    }
   ],
   "source": [
    "'A is %#x' % 18"
   ]
  },
  {
   "cell_type": "code",
   "execution_count": 8,
   "metadata": {},
   "outputs": [
    {
     "data": {
      "text/plain": [
       "'A is  18'"
      ]
     },
     "execution_count": 8,
     "metadata": {},
     "output_type": "execute_result"
    }
   ],
   "source": [
    "'A is %    d' % 18"
   ]
  },
  {
   "cell_type": "code",
   "execution_count": 9,
   "metadata": {},
   "outputs": [
    {
     "data": {
      "text/plain": [
       "'A is 00022'"
      ]
     },
     "execution_count": 9,
     "metadata": {},
     "output_type": "execute_result"
    }
   ],
   "source": [
    "'A is %05o' % 18"
   ]
  },
  {
   "cell_type": "markdown",
   "metadata": {},
   "source": [
    "转换类型为：\n",
    "\n",
    "| 转换符 | 含义                                                                         |\n",
    "| ------ | ------------------------------------------------------------------------------ |\n",
    "| 'd'    | 有符号十进制整数。                                                    |\n",
    "| 'i'    | 有符号十进制整数。                                                    |\n",
    "| 'o'    | 有符号八进制数。                                                       |\n",
    "| 'x'    | 有符号十六进制数（小写）。                                        |\n",
    "| 'X'    | 有符号十六进制数（大写）。                                        |\n",
    "| 'e'    | 浮点指数格式（小写）。                                              |\n",
    "| 'E'    | 浮点指数格式（大写）。                                              |\n",
    "| 'f'    | 浮点十进制格式。                                                       |\n",
    "| 'F'    | 浮点十进制格式。                                                       |\n",
    "| 'g'    | 浮点格式。如果指数小于 -4 或不小于精度则使用小写指数格式，否则使用十进制格式。 |\n",
    "| 'G'    | 浮点格式。如果指数小于 -4 或不小于精度则使用大写指数格式，否则使用十进制格式。 |\n",
    "| 'c'    | 单个字符（接受整数或单个字符的字符串）。                   |\n",
    "| 'r'    | 字符串（使用repr() 转换任何 Python 对象）。                      |\n",
    "| 's'    | 字符串（使用str() 转换任何 Python 对象）。                       |\n",
    "| 'a'    | 字符串（使用ascii() 转换任何 Python 对象）。                     |\n",
    "| '%'    | 不转换参数，在结果中输出一个 '%' 字符。                       |"
   ]
  },
  {
   "cell_type": "code",
   "execution_count": 10,
   "metadata": {},
   "outputs": [
    {
     "data": {
      "text/plain": [
       "'3.140000'"
      ]
     },
     "execution_count": 10,
     "metadata": {},
     "output_type": "execute_result"
    }
   ],
   "source": [
    "'%f' % 3.14"
   ]
  },
  {
   "cell_type": "code",
   "execution_count": 11,
   "metadata": {},
   "outputs": [
    {
     "data": {
      "text/plain": [
       "'3.140e+00'"
      ]
     },
     "execution_count": 11,
     "metadata": {},
     "output_type": "execute_result"
    }
   ],
   "source": [
    "'%.3e' % 3.14"
   ]
  },
  {
   "cell_type": "code",
   "execution_count": 12,
   "metadata": {},
   "outputs": [
    {
     "data": {
      "text/plain": [
       "'314.0%'"
      ]
     },
     "execution_count": 12,
     "metadata": {},
     "output_type": "execute_result"
    }
   ],
   "source": [
    "'%.1f%%' % (3.14*100)"
   ]
  },
  {
   "cell_type": "markdown",
   "metadata": {},
   "source": [
    "当右边的参数为一个字典（或其他映射类型）时，字符串中的格式 必须包含加圆括号的映射键，对应 `%` 字符之后字典中的每一项。映射键将从映射中选取要格式化的值:"
   ]
  },
  {
   "cell_type": "code",
   "execution_count": 13,
   "metadata": {},
   "outputs": [
    {
     "data": {
      "text/plain": [
       "'Python has 002 quote types.'"
      ]
     },
     "execution_count": 13,
     "metadata": {},
     "output_type": "execute_result"
    }
   ],
   "source": [
    "'%(language)s has %(number)03d quote types.' %\\\n",
    "{'language': \"Python\", \"number\": 2}"
   ]
  }
 ],
 "metadata": {
  "kernelspec": {
   "display_name": "Python 3",
   "language": "python",
   "name": "python3"
  },
  "language_info": {
   "codemirror_mode": {
    "name": "ipython",
    "version": 3
   },
   "file_extension": ".py",
   "mimetype": "text/x-python",
   "name": "python",
   "nbconvert_exporter": "python",
   "pygments_lexer": "ipython3",
   "version": "3.8.3"
  }
 },
 "nbformat": 4,
 "nbformat_minor": 4
}