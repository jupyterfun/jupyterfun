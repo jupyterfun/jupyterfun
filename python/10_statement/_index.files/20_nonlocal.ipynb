{
 "cells": [
  {
   "cell_type": "markdown",
   "metadata": {},
   "source": [
    "## nonlocal 语句"
   ]
  },
  {
   "cell_type": "markdown",
   "metadata": {},
   "source": [
    "nonlocal 语句会使得所列出的名称指向在它之前**已经存在**的，**和它最近**并且**在包含它的作用域中绑定**，**除全局变量以外**的变量。\n",
    "\n",
    "这种功能很重要，因为绑定的默认行为是先搜索局部命名空间。这个语句允许被封装的代码重新绑定局部作用域以外且非全局（模块）作用域当中的变量。\n",
    "\n",
    "举例如下："
   ]
  },
  {
   "cell_type": "code",
   "execution_count": 2,
   "metadata": {},
   "outputs": [
    {
     "name": "stdout",
     "output_type": "stream",
     "text": [
      "f\n",
      "f2\n",
      "f2\n",
      "f3\n"
     ]
    }
   ],
   "source": [
    "a = '全局'\n",
    "def f():\n",
    "    a = 'f' # f 中已经存在的 a, 包含 f2\n",
    "    \n",
    "    def f1():\n",
    "        a = 'f1' # f1 中的局部变量\n",
    "        \n",
    "    def f2():\n",
    "        nonlocal a # 和他最近且包含的是 'f'\n",
    "        a = 'f2'\n",
    "        \n",
    "    def f3():\n",
    "        global a\n",
    "        a = 'f3'\n",
    "    # 调用 f1 不改变 a = 'f'    \n",
    "    f1() \n",
    "    print(a)\n",
    "    # 调用 f2, nonlocal 将 a = 'f' 重新绑定为 a = 'f2'\n",
    "    f2() \n",
    "    print(a)\n",
    "    # 调用 f3, global 将 a 声明为全局变量，\n",
    "    # 并将 a = '全局' 重新绑定为 a = 'f3' \n",
    "    # 但在 f 这个局部中，a 仍然是 'f2'\n",
    "    f3()\n",
    "    print(a)\n",
    "\n",
    "f() # 调用 f 使绑定都生效\n",
    "print(a)"
   ]
  },
  {
   "cell_type": "code",
   "execution_count": 3,
   "metadata": {},
   "outputs": [
    {
     "ename": "SyntaxError",
     "evalue": "no binding for nonlocal 'a' found (<ipython-input-3-3706e217f701>, line 2)",
     "output_type": "error",
     "traceback": [
      "\u001b[1;36m  File \u001b[1;32m\"<ipython-input-3-3706e217f701>\"\u001b[1;36m, line \u001b[1;32m2\u001b[0m\n\u001b[1;33m    nonlocal a\u001b[0m\n\u001b[1;37m    ^\u001b[0m\n\u001b[1;31mSyntaxError\u001b[0m\u001b[1;31m:\u001b[0m no binding for nonlocal 'a' found\n"
     ]
    }
   ],
   "source": [
    "# 不存在不可以绑定\n",
    "def f():\n",
    "    nonlocal a \n",
    "    a = 1\n",
    "f()"
   ]
  },
  {
   "cell_type": "code",
   "execution_count": 4,
   "metadata": {},
   "outputs": [
    {
     "ename": "SyntaxError",
     "evalue": "no binding for nonlocal 'a' found (<ipython-input-4-a036260d029b>, line 5)",
     "output_type": "error",
     "traceback": [
      "\u001b[1;36m  File \u001b[1;32m\"<ipython-input-4-a036260d029b>\"\u001b[1;36m, line \u001b[1;32m5\u001b[0m\n\u001b[1;33m    nonlocal a\u001b[0m\n\u001b[1;37m    ^\u001b[0m\n\u001b[1;31mSyntaxError\u001b[0m\u001b[1;31m:\u001b[0m no binding for nonlocal 'a' found\n"
     ]
    }
   ],
   "source": [
    "# 不是包含它的作用域，不可以绑定\n",
    "def f():\n",
    "    def f1():\n",
    "        a = 0\n",
    "    f1()\n",
    "    nonlocal a \n",
    "    a = 1\n",
    "f()"
   ]
  },
  {
   "cell_type": "code",
   "execution_count": 5,
   "metadata": {},
   "outputs": [
    {
     "ename": "SyntaxError",
     "evalue": "no binding for nonlocal 'a' found (<ipython-input-5-87297c0b0eeb>, line 4)",
     "output_type": "error",
     "traceback": [
      "\u001b[1;36m  File \u001b[1;32m\"<ipython-input-5-87297c0b0eeb>\"\u001b[1;36m, line \u001b[1;32m4\u001b[0m\n\u001b[1;33m    nonlocal a\u001b[0m\n\u001b[1;37m    ^\u001b[0m\n\u001b[1;31mSyntaxError\u001b[0m\u001b[1;31m:\u001b[0m no binding for nonlocal 'a' found\n"
     ]
    }
   ],
   "source": [
    "# 全局变量，不可以绑定\n",
    "a = 0\n",
    "def f():\n",
    "    nonlocal a \n",
    "    a = 1\n",
    "f()"
   ]
  }
 ],
 "metadata": {
  "kernelspec": {
   "display_name": "Python 3",
   "language": "python",
   "name": "python3"
  },
  "language_info": {
   "codemirror_mode": {
    "name": "ipython",
    "version": 3
   },
   "file_extension": ".py",
   "mimetype": "text/x-python",
   "name": "python",
   "nbconvert_exporter": "python",
   "pygments_lexer": "ipython3",
   "version": "3.8.3"
  }
 },
 "nbformat": 4,
 "nbformat_minor": 4
}
