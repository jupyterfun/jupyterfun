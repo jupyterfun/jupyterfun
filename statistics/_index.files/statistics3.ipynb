{
 "cells": [
  {
   "cell_type": "markdown",
   "metadata": {
    "tags": []
   },
   "source": [
    "#  线性回归\n",
    "\n",
    "## 四, 线性回归\n",
    "\n",
    "### 1, 模型\n",
    "\n",
    "模型是指对于某个(类)实际问题的求解或客观事物运行规律进行抽象后的一种形式化表达方式, 可以理解为一个函数(一种映射规则)\n",
    "\n",
    "任何模型都是由三个部分组成: 目标, 变量和关系.\n",
    "建模时明确了模型的目标，才能进一步确定影响目标(因变量)的各关键变量(自变量)，进而确定变量之间的关系(函数关系)\n",
    "\n",
    "通过大量数据检验(训练)模型, 将模型(函数)的各个参数求解, 当参数确定之后, 便可利用模型对未知数据进行求值, 预测\n",
    "\n",
    "用于训练模型的样本数据中的每个属性称为特征, 用 x 表示, 样本中的每条数据经过模型计算得到的输出值称为标签(监督学习), 用 y 表示, 从而得到 y\n",
    "= f(x) 的函数关系\n",
    "\n",
    "### 2, 回归分析\n",
    "\n",
    "在统计学中, 回归分析指的是确定两种或两种以上变量间相互依赖的定量关系的一种统计分析方法\n",
    "\n",
    "回归分析按照涉及的变量的多少，分为一元回归分析和多元回归分析；按照因变量的多少，可分为简单回归分析和多重回归分析；按照自变量和因变量之间的关系类型，可分为线性回归分析和非线性回归分析\n",
    "\n",
    "回归分析解释自变量 x 发生改变, 因变量 y 会如何改变\n",
    "\n",
    "**拟合** , 插值 和 逼近 是数值分析的三大基础工具. 线性回归和非线性回归, 也叫线性拟合和非线性拟合,\n",
    "拟合就是从整体上靠近已知点列，构造一种算法(模型或函数), 使得算法能够更加符合真实数据\n",
    "\n",
    "### 3, 简单线性回归\n",
    "\n",
    "线性回归分析的自变量和因变量之间是线性关系, 只有一个自变量时称为 **简单线性回归** , 多个自变量时称为 **多元线性回归**\n",
    "\n",
    "简单线性回归方程:\n",
    "\n",
    "$$\\hat{y}=w * x+b$$\n",
    "\n",
    "$\\hat{y}$ 为因变量, x 为自变量, w 为比例关系, b 为截距, w 和 b 就是模型的参数. 例如房屋价格与房屋面积的正比例关系\n",
    "\n",
    "### 4, 多元线性回归\n",
    "\n",
    "现实生活中自变量通常不止一个, 例如影响房屋价格的, 除了房屋面积, 还有交通, 地段, 新旧, 楼层等等因素.\n",
    "不同的因素对房屋的价格影响力度(权重)不同, 因此使用多个因素来分析房屋的价格(各个因素与房屋价格近似线性关系), 可以得出多元线性回归方程:\n",
    "\n",
    "$\\hat{y}=w_{1} * x_{1}+w_{2} * x_{2}+w_{3} * x_{3}+\\cdots+w_{n} * x_{n}+b$\n",
    "\n",
    "$x$: 影响因素, 特征  \n",
    "$w$: 每个 x 的影响力度  \n",
    "$n$: 特征个数  \n",
    "$\\hat{y}$: 房屋的预测价格\n",
    "\n",
    "令:\n",
    "\n",
    "$x_{0}=1, w_{0}=b$\n",
    "\n",
    "设 $\\vec{w}$ 和 $\\vec{x}$ 为两个向量如下:\n",
    "\n",
    "$$\\vec{w}=\\left(w_{0}, w_{1}, w_{2}, w_{3}, \\ldots, w_{n}\\right)^{T}$$  \n",
    "$$\\vec{x}=\\left(x_{0}, x_{1}, x_{2}, x_{3}, \\ldots, x_{n}\\right)^{T}$$\n",
    "\n",
    "则方程可表示为:\n",
    "\n",
    "$$\\begin{aligned}  \n",
    "\\hat{y} &=w_{0} * x_{0}+w_{1} * x_{1}+w_{2} * x_{2}+w_{3} * x_{3}+\\ldots\n",
    "\\ldots+w_{n} * x_{n} \\  \n",
    "=\\sum_{j=0}^{n} w_{j} * x_{j} \\  \n",
    "=\\vec{w}^{T} \\cdot \\vec{x}  \n",
    "\\end{aligned}$$\n",
    "\n",
    "接下来只需要计算出参数 $\\vec{w}^{T}$, 便可以建立模型\n",
    "\n",
    "### 5, 损失函数\n",
    "\n",
    "损失函数, 用来衡量模型预测值与真实值之间的差异的函数, 也称目标函数或代价函数. 损失函数的值越小, 表示预测值与真实值之间的差异越小.\n",
    "\n",
    "因此, 求解上述模型的参数 $\\vec{w}^{T}$, 就是要建立一个关于模型参数的损失函数(以模型参数 $\\vec{w}^{T}$ 为自变量的函数),\n",
    "然而 $\\vec{w}^{T}$ 的取值组合是无限的, 目标就是通过机器学习, 求出一组最佳组合, 使得损失函数的值最小\n",
    "\n",
    "在线性回归中, 使用平方损失函数(最小二乘法), 用 J(w) 表示:\n",
    "\n",
    "$$\\begin{array}{l}  \n",
    "J(w)=\\frac{1}{2} \\sum_{i=1}^{m}\\left(y^{(i)}-\\hat{y}^{(i)}\\right)^{2} \\  \n",
    "=\\frac{1}{2} \\sum_{i=1}^{m}\\left(y^{(i)}-\\vec{w}^{T} \\vec{x}^{(i)}\\right)^{2}  \n",
    "\\end{array}$$\n",
    "\n",
    "m: 样本(训练集)数据的条数  \n",
    "$y^{(i)}$: 样本第 i 条数据的真实值  \n",
    "$\\hat{y}^{(i)}$: 样本第 i 条数据的预测值  \n",
    "$\\vec{x}^{(i)}$: 样本第 i 条数据的特征\n",
    "\n",
    "m, $y^{(i)}$ 和 $\\vec{x}^{(i)}$ 已知, 要使 J(w) 最小, 对 $\\vec{w}^{T}$ 求导并令导数等于 0 ,\n",
    "便可求得 $\\vec{w}^{T}$, 然后将样本(训练集)输入通过机器学习计算出具体的 $\\vec{w}^{T}$\n",
    "\n",
    "### 6, 回归模型评估\n",
    "\n",
    "建立模型之后, 模型的效果如何, 需要进行评估, 对于回归模型, 可用如下指标来衡量:\n",
    "\n",
    "**MSE** :  \n",
    "平均平方误差, 所有样本数据误差的平方和取均值:\n",
    "\n",
    "$$M S E=\\frac{1}{m} \\sum_{i=1}^{m}\\left(y^{(i)}-\\hat{y}^{(i)}\\right)^{2}$$\n",
    "\n",
    "**RMSE** :  \n",
    "平均平方误差的平方根:\n",
    "\n",
    "$$R M S E=\\sqrt{M S E}=\\sqrt{\\frac{1}{m}\n",
    "\\sum_{i=1}^{m}\\left(y^{(i)}-\\hat{y}^{(i)}\\right)^{2}}$$\n",
    "\n",
    "**MAE** :  \n",
    "平均绝对值误差, 所有样本数据误差的绝对值的和取均值:\n",
    "\n",
    "$$M A E=\\frac{1}{m} \\sum_{i=1}^{m}\\left|y^{(i)}-\\hat{y}^{(i)}\\right|$$\n",
    "\n",
    "上述指标越小越好, 小到什么程度, 不同的对象建立的模型不一样\n",
    "\n",
    "**R²** :  \n",
    "决定系数，反应因变量的全部变异能通过回归关系被自变量解释的比例. 如 R²=0.8，则表示回归关系可以解释因变量 80% 的变异.\n",
    "换句话说，如果我们能控制自变量不变，则因变量的变异程度会减少 80%\n",
    "\n",
    "在训练集中 R² 取值范围为 [0, 1], 在测试集(未知数据)中, R² 的取值范围为 [-∞, 1], R² 的值越大, 模型拟合越好\n",
    "\n",
    "R² 的计算公式:\n",
    "\n",
    "$$R^{2}=1-\\frac{R S S}{T S\n",
    "S}=1-\\frac{\\sum_{i=1}^{m}\\left(y^{(i)}-\\hat{y}^{(i)}\\right)^{2}}{\\sum_{i=1}^{m}\\left(y^{(i)}-\\bar{y}\\right)^{2}}$$\n",
    "\n",
    "$\\bar{y}$: 样本(测试集)的平均值\n",
    "\n",
    "不管何种对象建立的模型, R² 都是越大模拟越好\n",
    "\n",
    "**例一, 简单线性回归模型: 求鸢尾花花瓣长度和宽度的关系**"
   ]
  },
  {
   "cell_type": "code",
   "execution_count": 1,
   "metadata": {
    "tags": []
   },
   "outputs": [
    {
     "name": "stdout",
     "output_type": "stream",
     "text": [
      "权重 w: [0.42] 截距 b: -0.370615595909495\n"
     ]
    },
    {
     "data": {
      "image/png": "[encoded data removed]",
      "text/plain": [
       "<Figure size 432x288 with 1 Axes>"
      ]
     },
     "metadata": {
      "needs_background": "light"
     },
     "output_type": "display_data"
    }
   ],
   "source": [
    "import numpy as np  \n",
    "\n",
    "# 导入用于线性回归的类  \n",
    "from sklearn.linear_model import LinearRegression  \n",
    "\n",
    "# 切分训练集与测试集的模块  \n",
    "from sklearn.model_selection import train_test_split  \n",
    "\n",
    "# 鸢尾花数据集  \n",
    "from sklearn.datasets import load_iris  \n",
    "\n",
    "# 设置输出数据的精度为 2 (默认是8)  \n",
    "np.set_printoptions(precision=2)  \n",
    "\n",
    "# 获取花瓣长度 x, 宽度 y  \n",
    "iris = load_iris()  \n",
    "x, y = iris.data[:, 2].reshape(-1, 1), iris.data[:, 3]  \n",
    "\n",
    "# 将数据拆分为训练集和测试集, 指定测试集占比 test_size  \n",
    "# 指定随机种子 random_state(可以任意值但必须确定), 锁定拆分行为  \n",
    "x_train, x_test, y_train, y_test = train_test_split(  \n",
    "    x, y, test_size=0.25, random_state=5)  \n",
    "\n",
    "# 使用训练集训练模型  \n",
    "lr = LinearRegression()  \n",
    "lr.fit(x_train, y_train)  \n",
    "\n",
    "# 求得模型参数  \n",
    "print('权重 w:', lr.coef_, '截距 b:', lr.intercept_)  \n",
    "\n",
    "# 调用模型进行预测  \n",
    "y_hat = lr.predict(x_test)  \n",
    "\n",
    "# 结果可视化  \n",
    "import matplotlib.pyplot as plt  \n",
    "\n",
    "plt.rcParams['font.family'] = 'SimHei'  \n",
    "plt.rcParams['axes.unicode_minus'] = False  \n",
    "plt.rcParams['font.size'] = 10  \n",
    "\n",
    "plt.scatter(x_train, y_train, c='orange', label='训练集')  \n",
    "plt.scatter(x_test, y_test, c='g', marker='D', label='测试集')  \n",
    "plt.plot(x, lr.predict(x), 'r-')  \n",
    "plt.legend()  \n",
    "plt.xlabel('花瓣长度')  \n",
    "plt.ylabel('花瓣宽度')  \n",
    "plt.show()  "
   ]
  },
  {
   "cell_type": "code",
   "execution_count": 3,
   "metadata": {
    "tags": []
   },
   "outputs": [
    {
     "name": "stdout",
     "output_type": "stream",
     "text": [
      "MSE: 0.047866747643216113\n",
      "RMSE: 0.21878470614559903\n",
      "MAE: 0.1543808898175286\n",
      "训练集R²: 0.9317841638431329\n",
      "测试集R²: 0.9119955391492289\n"
     ]
    }
   ],
   "source": [
    "# 模型评估  \n",
    "from sklearn.metrics import mean_squared_error, mean_absolute_error, r2_score  \n",
    "\n",
    "print('MSE:', mean_squared_error(y_test, y_hat))  \n",
    "print('RMSE:', np.sqrt(mean_squared_error(y_test, y_hat)))  \n",
    "print('MAE:', mean_absolute_error(y_test, y_hat))  \n",
    "print('训练集R²:', r2_score(y_train, lr.predict(x_train))) # 可换成 lr.score(x_train, y_train)  \n",
    "print('测试集R²:', r2_score(y_test, y_hat)) # 可换成 lr.score(x_test, y_test)  "
   ]
  },
  {
   "cell_type": "markdown",
   "metadata": {
    "jp-MarkdownHeadingCollapsed": true,
    "tags": []
   },
   "source": [
    "**列二, 多元线性回归模型: 波士顿房价预测**"
   ]
  },
  {
   "cell_type": "code",
   "execution_count": 4,
   "metadata": {
    "tags": []
   },
   "outputs": [
    {
     "data": {
      "text/html": [
       "<div>\n",
       "<style scoped>\n",
       "    .dataframe tbody tr th:only-of-type {\n",
       "        vertical-align: middle;\n",
       "    }\n",
       "\n",
       "    .dataframe tbody tr th {\n",
       "        vertical-align: top;\n",
       "    }\n",
       "\n",
       "    .dataframe thead th {\n",
       "        text-align: right;\n",
       "    }\n",
       "</style>\n",
       "<table border=\"1\" class=\"dataframe\">\n",
       "  <thead>\n",
       "    <tr style=\"text-align: right;\">\n",
       "      <th></th>\n",
       "      <th>CRIM</th>\n",
       "      <th>ZN</th>\n",
       "      <th>INDUS</th>\n",
       "      <th>CHAS</th>\n",
       "      <th>NOX</th>\n",
       "      <th>RM</th>\n",
       "      <th>AGE</th>\n",
       "      <th>DIS</th>\n",
       "      <th>RAD</th>\n",
       "      <th>TAX</th>\n",
       "      <th>PTRATIO</th>\n",
       "      <th>B</th>\n",
       "      <th>LSTAT</th>\n",
       "      <th>MEDV</th>\n",
       "    </tr>\n",
       "  </thead>\n",
       "  <tbody>\n",
       "    <tr>\n",
       "      <th>0</th>\n",
       "      <td>0.00632</td>\n",
       "      <td>18.0</td>\n",
       "      <td>2.31</td>\n",
       "      <td>0.0</td>\n",
       "      <td>0.538</td>\n",
       "      <td>6.575</td>\n",
       "      <td>65.2</td>\n",
       "      <td>4.0900</td>\n",
       "      <td>1.0</td>\n",
       "      <td>296.0</td>\n",
       "      <td>15.3</td>\n",
       "      <td>396.90</td>\n",
       "      <td>4.98</td>\n",
       "      <td>24.0</td>\n",
       "    </tr>\n",
       "    <tr>\n",
       "      <th>1</th>\n",
       "      <td>0.02731</td>\n",
       "      <td>0.0</td>\n",
       "      <td>7.07</td>\n",
       "      <td>0.0</td>\n",
       "      <td>0.469</td>\n",
       "      <td>6.421</td>\n",
       "      <td>78.9</td>\n",
       "      <td>4.9671</td>\n",
       "      <td>2.0</td>\n",
       "      <td>242.0</td>\n",
       "      <td>17.8</td>\n",
       "      <td>396.90</td>\n",
       "      <td>9.14</td>\n",
       "      <td>21.6</td>\n",
       "    </tr>\n",
       "    <tr>\n",
       "      <th>2</th>\n",
       "      <td>0.02729</td>\n",
       "      <td>0.0</td>\n",
       "      <td>7.07</td>\n",
       "      <td>0.0</td>\n",
       "      <td>0.469</td>\n",
       "      <td>7.185</td>\n",
       "      <td>61.1</td>\n",
       "      <td>4.9671</td>\n",
       "      <td>2.0</td>\n",
       "      <td>242.0</td>\n",
       "      <td>17.8</td>\n",
       "      <td>392.83</td>\n",
       "      <td>4.03</td>\n",
       "      <td>34.7</td>\n",
       "    </tr>\n",
       "  </tbody>\n",
       "</table>\n",
       "</div>"
      ],
      "text/plain": [
       "      CRIM    ZN  INDUS  CHAS    NOX     RM   AGE     DIS  RAD    TAX  \\\n",
       "0  0.00632  18.0   2.31   0.0  0.538  6.575  65.2  4.0900  1.0  296.0   \n",
       "1  0.02731   0.0   7.07   0.0  0.469  6.421  78.9  4.9671  2.0  242.0   \n",
       "2  0.02729   0.0   7.07   0.0  0.469  7.185  61.1  4.9671  2.0  242.0   \n",
       "\n",
       "   PTRATIO       B  LSTAT  MEDV  \n",
       "0     15.3  396.90   4.98  24.0  \n",
       "1     17.8  396.90   9.14  21.6  \n",
       "2     17.8  392.83   4.03  34.7  "
      ]
     },
     "execution_count": 4,
     "metadata": {},
     "output_type": "execute_result"
    }
   ],
   "source": [
    "import numpy as np  \n",
    "from sklearn.linear_model import LinearRegression  \n",
    "from sklearn.model_selection import train_test_split  \n",
    "from sklearn.datasets import load_boston  \n",
    "import pandas as pd  \n",
    "\n",
    "boston = load_boston()  \n",
    "x, y = boston.data, boston.target  \n",
    "df = pd.DataFrame(np.concatenate([x, y.reshape(-1, 1)], axis=1),   \n",
    "                 columns=boston.feature_names.tolist() + ['MEDV'])  \n",
    "# 部分数据  \n",
    "df.head(3)  "
   ]
  },
  {
   "cell_type": "code",
   "execution_count": 5,
   "metadata": {
    "tags": []
   },
   "outputs": [
    {
     "name": "stdout",
     "output_type": "stream",
     "text": [
      "权重: [-1.53e-01  4.79e-02 -8.60e-03  2.58e+00 -1.46e+01  3.96e+00 -7.92e-03\n",
      " -1.46e+00  3.45e-01 -1.25e-02 -9.19e-01  1.32e-02 -5.17e-01]\n",
      "截距: 32.214120389743606\n",
      "训练集R²: 0.7468034208269784\n",
      "测试集R²: 0.7059096071098042\n",
      "房屋价格: [33.62]\n"
     ]
    }
   ],
   "source": [
    "x_train, x_test, y_train, y_test = train_test_split(  \n",
    "    x, y, test_size=0.25, random_state=5)  \n",
    "lr = LinearRegression()  \n",
    "lr.fit(x_train, y_train)  \n",
    "print('权重:', lr.coef_)  \n",
    "print('截距:', lr.intercept_)  \n",
    "y_hat = lr.predict(x_test)  \n",
    "print('训练集R²:', lr.score(x_train, y_train))  \n",
    "print('测试集R²:', lr.score(x_test, y_test))   \n",
    "\n",
    "# 假如获取了一间房屋的数据, 预测其房价  \n",
    "room_data = np.array([0.00732, 17.0, 1.31, 1.0, 0.638, 7.575, 62.2, 5.0900,  \n",
    "                      1.0, 296.0, 15.3, 396.90, 4.98]).reshape(1, -1)  \n",
    "y_price = lr.predict(room_data)  \n",
    "print('房屋价格:', y_price)  "
   ]
  },
  {
   "cell_type": "markdown",
   "metadata": {
    "tags": []
   },
   "source": [
    "多元线性回归在空间中, 可表示为一个超平面去拟合空间中的数据点"
   ]
  }
 ],
 "metadata": {
  "kernelspec": {
   "display_name": "Python 3 (ipykernel)",
   "language": "python",
   "name": "python3"
  },
  "language_info": {
   "codemirror_mode": {
    "name": "ipython",
    "version": 3
   },
   "file_extension": ".py",
   "mimetype": "text/x-python",
   "name": "python",
   "nbconvert_exporter": "python",
   "pygments_lexer": "ipython3",
   "version": "3.9.7"
  }
 },
 "nbformat": 4,
 "nbformat_minor": 4
}
